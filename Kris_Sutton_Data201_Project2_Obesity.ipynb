{
  "nbformat": 4,
  "nbformat_minor": 5,
  "metadata": {
    "kernelspec": {
      "display_name": "Python 3",
      "language": "python",
      "name": "python3"
    },
    "language_info": {
      "codemirror_mode": {
        "name": "ipython",
        "version": 3
      },
      "file_extension": ".py",
      "mimetype": "text/x-python",
      "name": "python",
      "nbconvert_exporter": "python",
      "pygments_lexer": "ipython3",
      "version": "3.8.8"
    },
    "colab": {
      "name": "Kris Sutton Data201_Project2_Obesity.ipynb",
      "provenance": [],
      "collapsed_sections": [],
      "include_colab_link": true
    }
  },
  "cells": [
    {
      "cell_type": "markdown",
      "metadata": {
        "id": "view-in-github",
        "colab_type": "text"
      },
      "source": [
        "<a href=\"https://colab.research.google.com/github/krisdsutton/data201/blob/main/Kris_Sutton_Data201_Project2_Obesity.ipynb\" target=\"_parent\"><img src=\"https://colab.research.google.com/assets/colab-badge.svg\" alt=\"Open In Colab\"/></a>"
      ]
    },
    {
      "cell_type": "markdown",
      "metadata": {
        "id": "34a0b4da"
      },
      "source": [
        "# Data 201 Project 2 Obesity Data - Logistic Regression Model\n",
        "### Kris Sutton\n",
        "### December 2, 2021\n",
        "\n",
        "## Dataset - Estimation of obesity levels based on eating habits and physical condition\n",
        "### Source: UCI Machine Learning Repository\n",
        "#### https://archive-beta.ics.uci.edu/ml/datasets/estimation+of+obesity+levels+based+on+eating+habits+and+physical+condition\n",
        "\n",
        "Additional Source: Kaggle\n",
        "https://www.kaggle.com/pmrich/obesitydataset-eda-data-prep-ml-hypertuning\n",
        "\n",
        "\n",
        "### Dataset information\n",
        "\n",
        "The dataset includes data for the estimation of obesity levels in individuals from the countries of Mexico, Peru and Colombia, based on their eating habits and physical condition. The dataset was contributed to the UCI Machine Learning Repository on 2019-08-27.\n",
        "\n",
        "**Number of observations:** 2111\n",
        "\n",
        "**Number of variables:** 17\n",
        "\n",
        "**Data Dictionary:**  \n",
        "\n",
        "Category\t| Feature Name | Description | Variable Type\n",
        "--------- | ------------ | ------------ | -------------- \n",
        "Target Variable | NObesity | Based on BMI | Categorical\n",
        "Eating Habits |\tFAVC | Frequent consumption of high caloric food | Categorical \n",
        "Eating Habits |\tFCVC | Frequency of consumption of vegetables\t| Ordinal \n",
        "Eating Habits\t| NCP | Number of main meals | Ordinal\n",
        "Eating Habits\t| CAEC | Consumption of food between meals | Ordinal\n",
        "Eating Habits\t| CH20 | Consumption of water daily | Ordinal\n",
        "Eating Habits\t| CALC | Consumption of alcohol | Ordinal\n",
        "Physical Conditioning | SCC | Calories consumption monitoring | Categorical\n",
        "Physical Conditioning | FAF\t| Pysical activity frequency | Ordinal\n",
        "Physical Conditioning | TUE\t| Time using technology devices | Ordinal\n",
        "Physical Conditioning | MTRANS | Transportation used | Categorical\n",
        "Physical Conditioning | SMOKE |\tSmokes Yes or No | Categorical\n",
        "Responder Characteristics | Family History with Overweight | Yes or No | Categorical\n",
        "Responder Charateristics | Gender | Male or Female | Categorical\n",
        "Responder Charateristics | Age | Age in years | Integer\n",
        "Responder Charateristics | Height | Height in meters | Float\n",
        "Responder Charateristics | Weight | Weight in kilograms | Float\n",
        "\n",
        "## Project 2 Questions\n",
        "\n",
        "1. Is BMI distribution approximately normal? \n",
        "2. How many records are in each categorical variable?\n",
        "3. Which variables create the model with the highest accuracy?\n",
        "\n"
      ],
      "id": "34a0b4da"
    },
    {
      "cell_type": "markdown",
      "metadata": {
        "id": "i5xUF1t3ZShD"
      },
      "source": [
        "##Ingesting, wrangling, and cleaning data."
      ],
      "id": "i5xUF1t3ZShD"
    },
    {
      "cell_type": "code",
      "metadata": {
        "id": "70c0b772",
        "colab": {
          "base_uri": "https://localhost:8080/"
        },
        "outputId": "015360b6-109c-45f3-f06f-5fbd4a09123e"
      },
      "source": [
        "#import pandas\n",
        "import pandas as pd\n",
        "#import numpy\n",
        "import numpy as np\n",
        "#import matplotlib\n",
        "import matplotlib as mpl \n",
        "#import pyplot\n",
        "import matplotlib.pyplot as plt\n",
        "#import seaborn\n",
        "import seaborn as sns\n",
        "#import sklearn\n",
        "import sklearn\n",
        "from sklearn.linear_model import LogisticRegression\n",
        "from sklearn.model_selection import train_test_split\n",
        "from sklearn.metrics import classification_report, confusion_matrix\n",
        "from sklearn.metrics import roc_auc_score, roc_curve, accuracy_score\n",
        "from sklearn.metrics import precision_score, recall_score\n",
        "from sklearn import preprocessing\n",
        "!pip install --upgrade scipy --user\n",
        "plt.style.use('classic')\n",
        "\n",
        "from pandas_profiling import ProfileReport\n",
        "from IPython.display import Image\n",
        "import warnings\n",
        "warnings.filterwarnings(\"ignore\")"
      ],
      "id": "70c0b772",
      "execution_count": 813,
      "outputs": [
        {
          "output_type": "stream",
          "name": "stdout",
          "text": [
            "Requirement already satisfied: scipy in /root/.local/lib/python3.7/site-packages (1.7.3)\n",
            "Requirement already satisfied: numpy<1.23.0,>=1.16.5 in /usr/local/lib/python3.7/dist-packages (from scipy) (1.19.5)\n"
          ]
        }
      ]
    },
    {
      "cell_type": "markdown",
      "metadata": {
        "id": "UM8VedaZdhu2"
      },
      "source": [
        "Read the obesity dataset and look at the first few rows."
      ],
      "id": "UM8VedaZdhu2"
    },
    {
      "cell_type": "code",
      "metadata": {
        "id": "a_SpOKJQd4cm",
        "colab": {
          "base_uri": "https://localhost:8080/",
          "height": 226
        },
        "outputId": "522c02f2-cc17-4a20-e174-575410e831a7"
      },
      "source": [
        "# read obesity dataset\n",
        "obesity = pd.read_csv('/content/sample_data/ObesityDataSet_raw_and_data_sinthetic.csv')\n",
        "ob_clean = pd.read_csv('/content/sample_data/ObesityDataSet_raw_and_data_sinthetic.csv')\n",
        "obesity.head()\n"
      ],
      "id": "a_SpOKJQd4cm",
      "execution_count": 814,
      "outputs": [
        {
          "output_type": "execute_result",
          "data": {
            "text/html": [
              "<div>\n",
              "<style scoped>\n",
              "    .dataframe tbody tr th:only-of-type {\n",
              "        vertical-align: middle;\n",
              "    }\n",
              "\n",
              "    .dataframe tbody tr th {\n",
              "        vertical-align: top;\n",
              "    }\n",
              "\n",
              "    .dataframe thead th {\n",
              "        text-align: right;\n",
              "    }\n",
              "</style>\n",
              "<table border=\"1\" class=\"dataframe\">\n",
              "  <thead>\n",
              "    <tr style=\"text-align: right;\">\n",
              "      <th></th>\n",
              "      <th>Gender</th>\n",
              "      <th>Age</th>\n",
              "      <th>Height</th>\n",
              "      <th>Weight</th>\n",
              "      <th>family_history_with_overweight</th>\n",
              "      <th>FAVC</th>\n",
              "      <th>FCVC</th>\n",
              "      <th>NCP</th>\n",
              "      <th>CAEC</th>\n",
              "      <th>SMOKE</th>\n",
              "      <th>CH2O</th>\n",
              "      <th>SCC</th>\n",
              "      <th>FAF</th>\n",
              "      <th>TUE</th>\n",
              "      <th>CALC</th>\n",
              "      <th>MTRANS</th>\n",
              "      <th>NObeyesdad</th>\n",
              "    </tr>\n",
              "  </thead>\n",
              "  <tbody>\n",
              "    <tr>\n",
              "      <th>0</th>\n",
              "      <td>Female</td>\n",
              "      <td>21.0</td>\n",
              "      <td>1.62</td>\n",
              "      <td>64.0</td>\n",
              "      <td>yes</td>\n",
              "      <td>no</td>\n",
              "      <td>2.0</td>\n",
              "      <td>3.0</td>\n",
              "      <td>Sometimes</td>\n",
              "      <td>no</td>\n",
              "      <td>2.0</td>\n",
              "      <td>no</td>\n",
              "      <td>0.0</td>\n",
              "      <td>1.0</td>\n",
              "      <td>no</td>\n",
              "      <td>Public_Transportation</td>\n",
              "      <td>Normal_Weight</td>\n",
              "    </tr>\n",
              "    <tr>\n",
              "      <th>1</th>\n",
              "      <td>Female</td>\n",
              "      <td>21.0</td>\n",
              "      <td>1.52</td>\n",
              "      <td>56.0</td>\n",
              "      <td>yes</td>\n",
              "      <td>no</td>\n",
              "      <td>3.0</td>\n",
              "      <td>3.0</td>\n",
              "      <td>Sometimes</td>\n",
              "      <td>yes</td>\n",
              "      <td>3.0</td>\n",
              "      <td>yes</td>\n",
              "      <td>3.0</td>\n",
              "      <td>0.0</td>\n",
              "      <td>Sometimes</td>\n",
              "      <td>Public_Transportation</td>\n",
              "      <td>Normal_Weight</td>\n",
              "    </tr>\n",
              "    <tr>\n",
              "      <th>2</th>\n",
              "      <td>Male</td>\n",
              "      <td>23.0</td>\n",
              "      <td>1.80</td>\n",
              "      <td>77.0</td>\n",
              "      <td>yes</td>\n",
              "      <td>no</td>\n",
              "      <td>2.0</td>\n",
              "      <td>3.0</td>\n",
              "      <td>Sometimes</td>\n",
              "      <td>no</td>\n",
              "      <td>2.0</td>\n",
              "      <td>no</td>\n",
              "      <td>2.0</td>\n",
              "      <td>1.0</td>\n",
              "      <td>Frequently</td>\n",
              "      <td>Public_Transportation</td>\n",
              "      <td>Normal_Weight</td>\n",
              "    </tr>\n",
              "    <tr>\n",
              "      <th>3</th>\n",
              "      <td>Male</td>\n",
              "      <td>27.0</td>\n",
              "      <td>1.80</td>\n",
              "      <td>87.0</td>\n",
              "      <td>no</td>\n",
              "      <td>no</td>\n",
              "      <td>3.0</td>\n",
              "      <td>3.0</td>\n",
              "      <td>Sometimes</td>\n",
              "      <td>no</td>\n",
              "      <td>2.0</td>\n",
              "      <td>no</td>\n",
              "      <td>2.0</td>\n",
              "      <td>0.0</td>\n",
              "      <td>Frequently</td>\n",
              "      <td>Walking</td>\n",
              "      <td>Overweight_Level_I</td>\n",
              "    </tr>\n",
              "    <tr>\n",
              "      <th>4</th>\n",
              "      <td>Male</td>\n",
              "      <td>22.0</td>\n",
              "      <td>1.78</td>\n",
              "      <td>89.8</td>\n",
              "      <td>no</td>\n",
              "      <td>no</td>\n",
              "      <td>2.0</td>\n",
              "      <td>1.0</td>\n",
              "      <td>Sometimes</td>\n",
              "      <td>no</td>\n",
              "      <td>2.0</td>\n",
              "      <td>no</td>\n",
              "      <td>0.0</td>\n",
              "      <td>0.0</td>\n",
              "      <td>Sometimes</td>\n",
              "      <td>Public_Transportation</td>\n",
              "      <td>Overweight_Level_II</td>\n",
              "    </tr>\n",
              "  </tbody>\n",
              "</table>\n",
              "</div>"
            ],
            "text/plain": [
              "   Gender   Age  Height  ...        CALC                 MTRANS           NObeyesdad\n",
              "0  Female  21.0    1.62  ...          no  Public_Transportation        Normal_Weight\n",
              "1  Female  21.0    1.52  ...   Sometimes  Public_Transportation        Normal_Weight\n",
              "2    Male  23.0    1.80  ...  Frequently  Public_Transportation        Normal_Weight\n",
              "3    Male  27.0    1.80  ...  Frequently                Walking   Overweight_Level_I\n",
              "4    Male  22.0    1.78  ...   Sometimes  Public_Transportation  Overweight_Level_II\n",
              "\n",
              "[5 rows x 17 columns]"
            ]
          },
          "metadata": {},
          "execution_count": 814
        }
      ]
    },
    {
      "cell_type": "code",
      "metadata": {
        "colab": {
          "base_uri": "https://localhost:8080/",
          "height": 424
        },
        "id": "CwTNimw227pM",
        "outputId": "4b40ec90-181a-4944-ef84-7919f7b40fb7"
      },
      "source": [
        "#Checking for N/A\n",
        "obesity.isnull()"
      ],
      "id": "CwTNimw227pM",
      "execution_count": 815,
      "outputs": [
        {
          "output_type": "execute_result",
          "data": {
            "text/html": [
              "<div>\n",
              "<style scoped>\n",
              "    .dataframe tbody tr th:only-of-type {\n",
              "        vertical-align: middle;\n",
              "    }\n",
              "\n",
              "    .dataframe tbody tr th {\n",
              "        vertical-align: top;\n",
              "    }\n",
              "\n",
              "    .dataframe thead th {\n",
              "        text-align: right;\n",
              "    }\n",
              "</style>\n",
              "<table border=\"1\" class=\"dataframe\">\n",
              "  <thead>\n",
              "    <tr style=\"text-align: right;\">\n",
              "      <th></th>\n",
              "      <th>Gender</th>\n",
              "      <th>Age</th>\n",
              "      <th>Height</th>\n",
              "      <th>Weight</th>\n",
              "      <th>family_history_with_overweight</th>\n",
              "      <th>FAVC</th>\n",
              "      <th>FCVC</th>\n",
              "      <th>NCP</th>\n",
              "      <th>CAEC</th>\n",
              "      <th>SMOKE</th>\n",
              "      <th>CH2O</th>\n",
              "      <th>SCC</th>\n",
              "      <th>FAF</th>\n",
              "      <th>TUE</th>\n",
              "      <th>CALC</th>\n",
              "      <th>MTRANS</th>\n",
              "      <th>NObeyesdad</th>\n",
              "    </tr>\n",
              "  </thead>\n",
              "  <tbody>\n",
              "    <tr>\n",
              "      <th>0</th>\n",
              "      <td>False</td>\n",
              "      <td>False</td>\n",
              "      <td>False</td>\n",
              "      <td>False</td>\n",
              "      <td>False</td>\n",
              "      <td>False</td>\n",
              "      <td>False</td>\n",
              "      <td>False</td>\n",
              "      <td>False</td>\n",
              "      <td>False</td>\n",
              "      <td>False</td>\n",
              "      <td>False</td>\n",
              "      <td>False</td>\n",
              "      <td>False</td>\n",
              "      <td>False</td>\n",
              "      <td>False</td>\n",
              "      <td>False</td>\n",
              "    </tr>\n",
              "    <tr>\n",
              "      <th>1</th>\n",
              "      <td>False</td>\n",
              "      <td>False</td>\n",
              "      <td>False</td>\n",
              "      <td>False</td>\n",
              "      <td>False</td>\n",
              "      <td>False</td>\n",
              "      <td>False</td>\n",
              "      <td>False</td>\n",
              "      <td>False</td>\n",
              "      <td>False</td>\n",
              "      <td>False</td>\n",
              "      <td>False</td>\n",
              "      <td>False</td>\n",
              "      <td>False</td>\n",
              "      <td>False</td>\n",
              "      <td>False</td>\n",
              "      <td>False</td>\n",
              "    </tr>\n",
              "    <tr>\n",
              "      <th>2</th>\n",
              "      <td>False</td>\n",
              "      <td>False</td>\n",
              "      <td>False</td>\n",
              "      <td>False</td>\n",
              "      <td>False</td>\n",
              "      <td>False</td>\n",
              "      <td>False</td>\n",
              "      <td>False</td>\n",
              "      <td>False</td>\n",
              "      <td>False</td>\n",
              "      <td>False</td>\n",
              "      <td>False</td>\n",
              "      <td>False</td>\n",
              "      <td>False</td>\n",
              "      <td>False</td>\n",
              "      <td>False</td>\n",
              "      <td>False</td>\n",
              "    </tr>\n",
              "    <tr>\n",
              "      <th>3</th>\n",
              "      <td>False</td>\n",
              "      <td>False</td>\n",
              "      <td>False</td>\n",
              "      <td>False</td>\n",
              "      <td>False</td>\n",
              "      <td>False</td>\n",
              "      <td>False</td>\n",
              "      <td>False</td>\n",
              "      <td>False</td>\n",
              "      <td>False</td>\n",
              "      <td>False</td>\n",
              "      <td>False</td>\n",
              "      <td>False</td>\n",
              "      <td>False</td>\n",
              "      <td>False</td>\n",
              "      <td>False</td>\n",
              "      <td>False</td>\n",
              "    </tr>\n",
              "    <tr>\n",
              "      <th>4</th>\n",
              "      <td>False</td>\n",
              "      <td>False</td>\n",
              "      <td>False</td>\n",
              "      <td>False</td>\n",
              "      <td>False</td>\n",
              "      <td>False</td>\n",
              "      <td>False</td>\n",
              "      <td>False</td>\n",
              "      <td>False</td>\n",
              "      <td>False</td>\n",
              "      <td>False</td>\n",
              "      <td>False</td>\n",
              "      <td>False</td>\n",
              "      <td>False</td>\n",
              "      <td>False</td>\n",
              "      <td>False</td>\n",
              "      <td>False</td>\n",
              "    </tr>\n",
              "    <tr>\n",
              "      <th>...</th>\n",
              "      <td>...</td>\n",
              "      <td>...</td>\n",
              "      <td>...</td>\n",
              "      <td>...</td>\n",
              "      <td>...</td>\n",
              "      <td>...</td>\n",
              "      <td>...</td>\n",
              "      <td>...</td>\n",
              "      <td>...</td>\n",
              "      <td>...</td>\n",
              "      <td>...</td>\n",
              "      <td>...</td>\n",
              "      <td>...</td>\n",
              "      <td>...</td>\n",
              "      <td>...</td>\n",
              "      <td>...</td>\n",
              "      <td>...</td>\n",
              "    </tr>\n",
              "    <tr>\n",
              "      <th>2106</th>\n",
              "      <td>False</td>\n",
              "      <td>False</td>\n",
              "      <td>False</td>\n",
              "      <td>False</td>\n",
              "      <td>False</td>\n",
              "      <td>False</td>\n",
              "      <td>False</td>\n",
              "      <td>False</td>\n",
              "      <td>False</td>\n",
              "      <td>False</td>\n",
              "      <td>False</td>\n",
              "      <td>False</td>\n",
              "      <td>False</td>\n",
              "      <td>False</td>\n",
              "      <td>False</td>\n",
              "      <td>False</td>\n",
              "      <td>False</td>\n",
              "    </tr>\n",
              "    <tr>\n",
              "      <th>2107</th>\n",
              "      <td>False</td>\n",
              "      <td>False</td>\n",
              "      <td>False</td>\n",
              "      <td>False</td>\n",
              "      <td>False</td>\n",
              "      <td>False</td>\n",
              "      <td>False</td>\n",
              "      <td>False</td>\n",
              "      <td>False</td>\n",
              "      <td>False</td>\n",
              "      <td>False</td>\n",
              "      <td>False</td>\n",
              "      <td>False</td>\n",
              "      <td>False</td>\n",
              "      <td>False</td>\n",
              "      <td>False</td>\n",
              "      <td>False</td>\n",
              "    </tr>\n",
              "    <tr>\n",
              "      <th>2108</th>\n",
              "      <td>False</td>\n",
              "      <td>False</td>\n",
              "      <td>False</td>\n",
              "      <td>False</td>\n",
              "      <td>False</td>\n",
              "      <td>False</td>\n",
              "      <td>False</td>\n",
              "      <td>False</td>\n",
              "      <td>False</td>\n",
              "      <td>False</td>\n",
              "      <td>False</td>\n",
              "      <td>False</td>\n",
              "      <td>False</td>\n",
              "      <td>False</td>\n",
              "      <td>False</td>\n",
              "      <td>False</td>\n",
              "      <td>False</td>\n",
              "    </tr>\n",
              "    <tr>\n",
              "      <th>2109</th>\n",
              "      <td>False</td>\n",
              "      <td>False</td>\n",
              "      <td>False</td>\n",
              "      <td>False</td>\n",
              "      <td>False</td>\n",
              "      <td>False</td>\n",
              "      <td>False</td>\n",
              "      <td>False</td>\n",
              "      <td>False</td>\n",
              "      <td>False</td>\n",
              "      <td>False</td>\n",
              "      <td>False</td>\n",
              "      <td>False</td>\n",
              "      <td>False</td>\n",
              "      <td>False</td>\n",
              "      <td>False</td>\n",
              "      <td>False</td>\n",
              "    </tr>\n",
              "    <tr>\n",
              "      <th>2110</th>\n",
              "      <td>False</td>\n",
              "      <td>False</td>\n",
              "      <td>False</td>\n",
              "      <td>False</td>\n",
              "      <td>False</td>\n",
              "      <td>False</td>\n",
              "      <td>False</td>\n",
              "      <td>False</td>\n",
              "      <td>False</td>\n",
              "      <td>False</td>\n",
              "      <td>False</td>\n",
              "      <td>False</td>\n",
              "      <td>False</td>\n",
              "      <td>False</td>\n",
              "      <td>False</td>\n",
              "      <td>False</td>\n",
              "      <td>False</td>\n",
              "    </tr>\n",
              "  </tbody>\n",
              "</table>\n",
              "<p>2111 rows × 17 columns</p>\n",
              "</div>"
            ],
            "text/plain": [
              "      Gender    Age  Height  Weight  ...    TUE   CALC  MTRANS  NObeyesdad\n",
              "0      False  False   False   False  ...  False  False   False       False\n",
              "1      False  False   False   False  ...  False  False   False       False\n",
              "2      False  False   False   False  ...  False  False   False       False\n",
              "3      False  False   False   False  ...  False  False   False       False\n",
              "4      False  False   False   False  ...  False  False   False       False\n",
              "...      ...    ...     ...     ...  ...    ...    ...     ...         ...\n",
              "2106   False  False   False   False  ...  False  False   False       False\n",
              "2107   False  False   False   False  ...  False  False   False       False\n",
              "2108   False  False   False   False  ...  False  False   False       False\n",
              "2109   False  False   False   False  ...  False  False   False       False\n",
              "2110   False  False   False   False  ...  False  False   False       False\n",
              "\n",
              "[2111 rows x 17 columns]"
            ]
          },
          "metadata": {},
          "execution_count": 815
        }
      ]
    },
    {
      "cell_type": "code",
      "metadata": {
        "colab": {
          "base_uri": "https://localhost:8080/"
        },
        "id": "1zG9RnFO3KEF",
        "outputId": "0027b6a5-9447-4ab4-cc62-91b712f80a14"
      },
      "source": [
        "#Counting \"n/a\"s in dataset\n",
        "obesity.isna().sum()"
      ],
      "id": "1zG9RnFO3KEF",
      "execution_count": 816,
      "outputs": [
        {
          "output_type": "execute_result",
          "data": {
            "text/plain": [
              "Gender                            0\n",
              "Age                               0\n",
              "Height                            0\n",
              "Weight                            0\n",
              "family_history_with_overweight    0\n",
              "FAVC                              0\n",
              "FCVC                              0\n",
              "NCP                               0\n",
              "CAEC                              0\n",
              "SMOKE                             0\n",
              "CH2O                              0\n",
              "SCC                               0\n",
              "FAF                               0\n",
              "TUE                               0\n",
              "CALC                              0\n",
              "MTRANS                            0\n",
              "NObeyesdad                        0\n",
              "dtype: int64"
            ]
          },
          "metadata": {},
          "execution_count": 816
        }
      ]
    },
    {
      "cell_type": "markdown",
      "metadata": {
        "id": "VGbSEU2FkGqB"
      },
      "source": [
        "Calculate Body Mass Index (BMI) = $weight (kg)$ / $(height (m))^2$"
      ],
      "id": "VGbSEU2FkGqB"
    },
    {
      "cell_type": "code",
      "metadata": {
        "colab": {
          "base_uri": "https://localhost:8080/",
          "height": 226
        },
        "id": "uUFyqRWDiwpw",
        "outputId": "b7860a4d-3312-419b-ea07-c75ef696d8c3"
      },
      "source": [
        "# create BMI column\n",
        "obesity['BMI'] = obesity['Weight'] / obesity['Height'] ** 2\n",
        "obesity.head()"
      ],
      "id": "uUFyqRWDiwpw",
      "execution_count": 817,
      "outputs": [
        {
          "output_type": "execute_result",
          "data": {
            "text/html": [
              "<div>\n",
              "<style scoped>\n",
              "    .dataframe tbody tr th:only-of-type {\n",
              "        vertical-align: middle;\n",
              "    }\n",
              "\n",
              "    .dataframe tbody tr th {\n",
              "        vertical-align: top;\n",
              "    }\n",
              "\n",
              "    .dataframe thead th {\n",
              "        text-align: right;\n",
              "    }\n",
              "</style>\n",
              "<table border=\"1\" class=\"dataframe\">\n",
              "  <thead>\n",
              "    <tr style=\"text-align: right;\">\n",
              "      <th></th>\n",
              "      <th>Gender</th>\n",
              "      <th>Age</th>\n",
              "      <th>Height</th>\n",
              "      <th>Weight</th>\n",
              "      <th>family_history_with_overweight</th>\n",
              "      <th>FAVC</th>\n",
              "      <th>FCVC</th>\n",
              "      <th>NCP</th>\n",
              "      <th>CAEC</th>\n",
              "      <th>SMOKE</th>\n",
              "      <th>CH2O</th>\n",
              "      <th>SCC</th>\n",
              "      <th>FAF</th>\n",
              "      <th>TUE</th>\n",
              "      <th>CALC</th>\n",
              "      <th>MTRANS</th>\n",
              "      <th>NObeyesdad</th>\n",
              "      <th>BMI</th>\n",
              "    </tr>\n",
              "  </thead>\n",
              "  <tbody>\n",
              "    <tr>\n",
              "      <th>0</th>\n",
              "      <td>Female</td>\n",
              "      <td>21.0</td>\n",
              "      <td>1.62</td>\n",
              "      <td>64.0</td>\n",
              "      <td>yes</td>\n",
              "      <td>no</td>\n",
              "      <td>2.0</td>\n",
              "      <td>3.0</td>\n",
              "      <td>Sometimes</td>\n",
              "      <td>no</td>\n",
              "      <td>2.0</td>\n",
              "      <td>no</td>\n",
              "      <td>0.0</td>\n",
              "      <td>1.0</td>\n",
              "      <td>no</td>\n",
              "      <td>Public_Transportation</td>\n",
              "      <td>Normal_Weight</td>\n",
              "      <td>24.386526</td>\n",
              "    </tr>\n",
              "    <tr>\n",
              "      <th>1</th>\n",
              "      <td>Female</td>\n",
              "      <td>21.0</td>\n",
              "      <td>1.52</td>\n",
              "      <td>56.0</td>\n",
              "      <td>yes</td>\n",
              "      <td>no</td>\n",
              "      <td>3.0</td>\n",
              "      <td>3.0</td>\n",
              "      <td>Sometimes</td>\n",
              "      <td>yes</td>\n",
              "      <td>3.0</td>\n",
              "      <td>yes</td>\n",
              "      <td>3.0</td>\n",
              "      <td>0.0</td>\n",
              "      <td>Sometimes</td>\n",
              "      <td>Public_Transportation</td>\n",
              "      <td>Normal_Weight</td>\n",
              "      <td>24.238227</td>\n",
              "    </tr>\n",
              "    <tr>\n",
              "      <th>2</th>\n",
              "      <td>Male</td>\n",
              "      <td>23.0</td>\n",
              "      <td>1.80</td>\n",
              "      <td>77.0</td>\n",
              "      <td>yes</td>\n",
              "      <td>no</td>\n",
              "      <td>2.0</td>\n",
              "      <td>3.0</td>\n",
              "      <td>Sometimes</td>\n",
              "      <td>no</td>\n",
              "      <td>2.0</td>\n",
              "      <td>no</td>\n",
              "      <td>2.0</td>\n",
              "      <td>1.0</td>\n",
              "      <td>Frequently</td>\n",
              "      <td>Public_Transportation</td>\n",
              "      <td>Normal_Weight</td>\n",
              "      <td>23.765432</td>\n",
              "    </tr>\n",
              "    <tr>\n",
              "      <th>3</th>\n",
              "      <td>Male</td>\n",
              "      <td>27.0</td>\n",
              "      <td>1.80</td>\n",
              "      <td>87.0</td>\n",
              "      <td>no</td>\n",
              "      <td>no</td>\n",
              "      <td>3.0</td>\n",
              "      <td>3.0</td>\n",
              "      <td>Sometimes</td>\n",
              "      <td>no</td>\n",
              "      <td>2.0</td>\n",
              "      <td>no</td>\n",
              "      <td>2.0</td>\n",
              "      <td>0.0</td>\n",
              "      <td>Frequently</td>\n",
              "      <td>Walking</td>\n",
              "      <td>Overweight_Level_I</td>\n",
              "      <td>26.851852</td>\n",
              "    </tr>\n",
              "    <tr>\n",
              "      <th>4</th>\n",
              "      <td>Male</td>\n",
              "      <td>22.0</td>\n",
              "      <td>1.78</td>\n",
              "      <td>89.8</td>\n",
              "      <td>no</td>\n",
              "      <td>no</td>\n",
              "      <td>2.0</td>\n",
              "      <td>1.0</td>\n",
              "      <td>Sometimes</td>\n",
              "      <td>no</td>\n",
              "      <td>2.0</td>\n",
              "      <td>no</td>\n",
              "      <td>0.0</td>\n",
              "      <td>0.0</td>\n",
              "      <td>Sometimes</td>\n",
              "      <td>Public_Transportation</td>\n",
              "      <td>Overweight_Level_II</td>\n",
              "      <td>28.342381</td>\n",
              "    </tr>\n",
              "  </tbody>\n",
              "</table>\n",
              "</div>"
            ],
            "text/plain": [
              "   Gender   Age  Height  ...                 MTRANS           NObeyesdad        BMI\n",
              "0  Female  21.0    1.62  ...  Public_Transportation        Normal_Weight  24.386526\n",
              "1  Female  21.0    1.52  ...  Public_Transportation        Normal_Weight  24.238227\n",
              "2    Male  23.0    1.80  ...  Public_Transportation        Normal_Weight  23.765432\n",
              "3    Male  27.0    1.80  ...                Walking   Overweight_Level_I  26.851852\n",
              "4    Male  22.0    1.78  ...  Public_Transportation  Overweight_Level_II  28.342381\n",
              "\n",
              "[5 rows x 18 columns]"
            ]
          },
          "metadata": {},
          "execution_count": 817
        }
      ]
    },
    {
      "cell_type": "code",
      "metadata": {
        "id": "9ZgdLgPsVna_"
      },
      "source": [
        "# renaming 'family_history_with_oveweight' column to be shorter\n",
        "obesity.rename(columns={'family_history_with_overweight': 'Family'}, inplace=True)"
      ],
      "id": "9ZgdLgPsVna_",
      "execution_count": 818,
      "outputs": []
    },
    {
      "cell_type": "markdown",
      "metadata": {
        "id": "0caQMzBdfaf9"
      },
      "source": [
        "##EDA"
      ],
      "id": "0caQMzBdfaf9"
    },
    {
      "cell_type": "code",
      "metadata": {
        "colab": {
          "base_uri": "https://localhost:8080/",
          "height": 366
        },
        "id": "bCrcX2UB8UFf",
        "outputId": "559cb8ce-e7f2-470d-c563-c40899fd99c6"
      },
      "source": [
        "# create boxplot for BMI\n",
        "%matplotlib inline\n",
        "ax=sns.boxplot(y='BMI', x='NObeyesdad', data=obesity, palette=\"Set3\", order=['Insufficient_Weight','Normal_Weight', \n",
        "              'Overweight_Level_I','Overweight_Level_II','Obesity_Type_I','Obesity_Type_II','Obesity_Type_III'])\n",
        "ax.set_title('Obesity Categories')\n",
        "ax.set_ylabel('BMI')\n",
        "ax.set_xticklabels(rotation=45, horizontalalignment='right', labels=['Insufficient_Weight','Normal_Weight', \n",
        "              'Overweight_Level_I','Overweight_Level_II','Obesity_Type_I','Obesity_Type_II','Obesity_Type_III'])\n",
        "plt.show();"
      ],
      "id": "bCrcX2UB8UFf",
      "execution_count": 819,
      "outputs": [
        {
          "output_type": "display_data",
          "data": {
            "image/png": "[encoded data removed]",
            "text/plain": [
              "<Figure size 432x288 with 1 Axes>"
            ]
          },
          "metadata": {
            "needs_background": "light"
          }
        }
      ]
    },
    {
      "cell_type": "markdown",
      "metadata": {
        "id": "QqsZpkWsAq2o"
      },
      "source": [
        "Boxplots shows most categories with normal distribution, with OB Type II being slightly right skewed.  Insufficient, OW Level II, and OB Type III have a few outliers.\n"
      ],
      "id": "QqsZpkWsAq2o"
    },
    {
      "cell_type": "code",
      "metadata": {
        "colab": {
          "base_uri": "https://localhost:8080/",
          "height": 806
        },
        "id": "kRBQdSdz77aZ",
        "outputId": "6136b67d-898b-4ca0-a326-00da0ba2cdf4"
      },
      "source": [
        "# count plots for ordinal variables\n",
        "columns = ['Gender', 'Family', 'FAVC', 'CAEC', 'SMOKE', 'SCC', 'CALC', 'MTRANS', 'NObeyesdad']\n",
        "\n",
        "fig, ax = plt.subplots(3, 3, figsize=(20, 12))\n",
        "for col, subplot in zip(columns, ax.flatten()):\n",
        "    sns.countplot(obesity[col], ax=subplot, palette='flare')\n",
        "    \n",
        "    if col==\"MTRANS\":\n",
        "        sns.countplot(obesity[col],ax=subplot, palette='flare', order=['Public_Transportation', 'Automobile', 'Walking', 'Motorbike', 'Bike' ])\n",
        "        subplot.set_xticklabels(rotation=35, horizontalalignment='right', labels=['Public_Transportation', 'Automobile', \n",
        "                                                                                  'Walking', 'Motorbike', 'Bike' ])        \n",
        "        subplot.yaxis.label.set_text(\"Count\")\n",
        "    elif col==\"CAEC\":\n",
        "        sns.countplot(obesity[col],ax=subplot, palette='flare', order=['Sometimes', 'Frequently', 'Always', 'no'])\n",
        "        subplot.set_xticklabels(rotation=35, horizontalalignment='right', labels=['Sometimes', 'Frequently', 'Always', 'no'])        \n",
        "        subplot.yaxis.label.set_text(\"Count\")\n",
        "    elif col==\"CALC\":\n",
        "        sns.countplot(obesity[col],ax=subplot, palette='flare', order=['Sometimes', 'Frequently', 'no', 'Always'])\n",
        "        subplot.set_xticklabels(rotation=35, horizontalalignment='right', labels=['Sometimes', 'Frequently', 'no', 'Always'])        \n",
        "        subplot.yaxis.label.set_text(\"Count\")\n",
        "    elif col==\"NObeyesdad\":\n",
        "        sns.countplot(obesity[col],ax=subplot, palette='flare', order=['Insufficient_Weight','Normal_Weight', \n",
        "              'Overweight_Level_I','Overweight_Level_II','Obesity_Type_I','Obesity_Type_II','Obesity_Type_III'])\n",
        "        subplot.set_xticklabels(rotation=35, horizontalalignment='right', labels=['Insufficient_Weight','Normal_Weight', \n",
        "              'Overweight_Level_I','Overweight_Level_II','Obesity_Type_I','Obesity_Type_II','Obesity_Type_III'])  \n",
        "        subplot.yaxis.label.set_text(\"Count\")\n",
        "    else:\n",
        "        sns.countplot(obesity[col],ax=subplot, palette='flare')  \n",
        "        subplot.yaxis.label.set_text(\"Count\")\n",
        "        \n",
        "#show plots\n",
        "fig.suptitle(\"Categorical Variables Counts\", fontsize=20)\n",
        "plt.tight_layout(pad=5, w_pad=0.0, h_pad=1)\n",
        "plt.show()"
      ],
      "id": "kRBQdSdz77aZ",
      "execution_count": 820,
      "outputs": [
        {
          "output_type": "display_data",
          "data": {
            "image/png": "[encoded data removed]",
            "text/plain": [
              "<Figure size 1440x864 with 9 Axes>"
            ]
          },
          "metadata": {
            "needs_background": "light"
          }
        }
      ]
    },
    {
      "cell_type": "markdown",
      "metadata": {
        "id": "yB4EWavYk7DZ"
      },
      "source": [
        "Changing some categorical data to int."
      ],
      "id": "yB4EWavYk7DZ"
    },
    {
      "cell_type": "code",
      "metadata": {
        "colab": {
          "base_uri": "https://localhost:8080/",
          "height": 206
        },
        "id": "G7G1KnpOgL6f",
        "outputId": "fcfb3a32-8a55-4ff5-b6c4-57698052a80a"
      },
      "source": [
        "# creating a dict file \n",
        "family = {'yes': 1,'no': 0}\n",
        "favc = {'yes': 1,'no': 0}\n",
        "smoke = {'yes': 1,'no': 0}\n",
        "scc = {'yes': 1,'no': 0}\n",
        "  \n",
        "# traversing through dataframe\n",
        "# family, favc, smoke, scc column and writing\n",
        "# values where key matches\n",
        "obesity.Family = [family[item] for item in obesity.Family]\n",
        "obesity.FAVC = [favc[item] for item in obesity.FAVC]\n",
        "obesity.SMOKE = [smoke[item] for item in obesity.SMOKE]\n",
        "obesity.SCC = [scc[item] for item in obesity.SCC]\n",
        "obesity.head()"
      ],
      "id": "G7G1KnpOgL6f",
      "execution_count": 821,
      "outputs": [
        {
          "output_type": "execute_result",
          "data": {
            "text/html": [
              "<div>\n",
              "<style scoped>\n",
              "    .dataframe tbody tr th:only-of-type {\n",
              "        vertical-align: middle;\n",
              "    }\n",
              "\n",
              "    .dataframe tbody tr th {\n",
              "        vertical-align: top;\n",
              "    }\n",
              "\n",
              "    .dataframe thead th {\n",
              "        text-align: right;\n",
              "    }\n",
              "</style>\n",
              "<table border=\"1\" class=\"dataframe\">\n",
              "  <thead>\n",
              "    <tr style=\"text-align: right;\">\n",
              "      <th></th>\n",
              "      <th>Gender</th>\n",
              "      <th>Age</th>\n",
              "      <th>Height</th>\n",
              "      <th>Weight</th>\n",
              "      <th>Family</th>\n",
              "      <th>FAVC</th>\n",
              "      <th>FCVC</th>\n",
              "      <th>NCP</th>\n",
              "      <th>CAEC</th>\n",
              "      <th>SMOKE</th>\n",
              "      <th>CH2O</th>\n",
              "      <th>SCC</th>\n",
              "      <th>FAF</th>\n",
              "      <th>TUE</th>\n",
              "      <th>CALC</th>\n",
              "      <th>MTRANS</th>\n",
              "      <th>NObeyesdad</th>\n",
              "      <th>BMI</th>\n",
              "    </tr>\n",
              "  </thead>\n",
              "  <tbody>\n",
              "    <tr>\n",
              "      <th>0</th>\n",
              "      <td>Female</td>\n",
              "      <td>21.0</td>\n",
              "      <td>1.62</td>\n",
              "      <td>64.0</td>\n",
              "      <td>1</td>\n",
              "      <td>0</td>\n",
              "      <td>2.0</td>\n",
              "      <td>3.0</td>\n",
              "      <td>Sometimes</td>\n",
              "      <td>0</td>\n",
              "      <td>2.0</td>\n",
              "      <td>0</td>\n",
              "      <td>0.0</td>\n",
              "      <td>1.0</td>\n",
              "      <td>no</td>\n",
              "      <td>Public_Transportation</td>\n",
              "      <td>Normal_Weight</td>\n",
              "      <td>24.386526</td>\n",
              "    </tr>\n",
              "    <tr>\n",
              "      <th>1</th>\n",
              "      <td>Female</td>\n",
              "      <td>21.0</td>\n",
              "      <td>1.52</td>\n",
              "      <td>56.0</td>\n",
              "      <td>1</td>\n",
              "      <td>0</td>\n",
              "      <td>3.0</td>\n",
              "      <td>3.0</td>\n",
              "      <td>Sometimes</td>\n",
              "      <td>1</td>\n",
              "      <td>3.0</td>\n",
              "      <td>1</td>\n",
              "      <td>3.0</td>\n",
              "      <td>0.0</td>\n",
              "      <td>Sometimes</td>\n",
              "      <td>Public_Transportation</td>\n",
              "      <td>Normal_Weight</td>\n",
              "      <td>24.238227</td>\n",
              "    </tr>\n",
              "    <tr>\n",
              "      <th>2</th>\n",
              "      <td>Male</td>\n",
              "      <td>23.0</td>\n",
              "      <td>1.80</td>\n",
              "      <td>77.0</td>\n",
              "      <td>1</td>\n",
              "      <td>0</td>\n",
              "      <td>2.0</td>\n",
              "      <td>3.0</td>\n",
              "      <td>Sometimes</td>\n",
              "      <td>0</td>\n",
              "      <td>2.0</td>\n",
              "      <td>0</td>\n",
              "      <td>2.0</td>\n",
              "      <td>1.0</td>\n",
              "      <td>Frequently</td>\n",
              "      <td>Public_Transportation</td>\n",
              "      <td>Normal_Weight</td>\n",
              "      <td>23.765432</td>\n",
              "    </tr>\n",
              "    <tr>\n",
              "      <th>3</th>\n",
              "      <td>Male</td>\n",
              "      <td>27.0</td>\n",
              "      <td>1.80</td>\n",
              "      <td>87.0</td>\n",
              "      <td>0</td>\n",
              "      <td>0</td>\n",
              "      <td>3.0</td>\n",
              "      <td>3.0</td>\n",
              "      <td>Sometimes</td>\n",
              "      <td>0</td>\n",
              "      <td>2.0</td>\n",
              "      <td>0</td>\n",
              "      <td>2.0</td>\n",
              "      <td>0.0</td>\n",
              "      <td>Frequently</td>\n",
              "      <td>Walking</td>\n",
              "      <td>Overweight_Level_I</td>\n",
              "      <td>26.851852</td>\n",
              "    </tr>\n",
              "    <tr>\n",
              "      <th>4</th>\n",
              "      <td>Male</td>\n",
              "      <td>22.0</td>\n",
              "      <td>1.78</td>\n",
              "      <td>89.8</td>\n",
              "      <td>0</td>\n",
              "      <td>0</td>\n",
              "      <td>2.0</td>\n",
              "      <td>1.0</td>\n",
              "      <td>Sometimes</td>\n",
              "      <td>0</td>\n",
              "      <td>2.0</td>\n",
              "      <td>0</td>\n",
              "      <td>0.0</td>\n",
              "      <td>0.0</td>\n",
              "      <td>Sometimes</td>\n",
              "      <td>Public_Transportation</td>\n",
              "      <td>Overweight_Level_II</td>\n",
              "      <td>28.342381</td>\n",
              "    </tr>\n",
              "  </tbody>\n",
              "</table>\n",
              "</div>"
            ],
            "text/plain": [
              "   Gender   Age  Height  ...                 MTRANS           NObeyesdad        BMI\n",
              "0  Female  21.0    1.62  ...  Public_Transportation        Normal_Weight  24.386526\n",
              "1  Female  21.0    1.52  ...  Public_Transportation        Normal_Weight  24.238227\n",
              "2    Male  23.0    1.80  ...  Public_Transportation        Normal_Weight  23.765432\n",
              "3    Male  27.0    1.80  ...                Walking   Overweight_Level_I  26.851852\n",
              "4    Male  22.0    1.78  ...  Public_Transportation  Overweight_Level_II  28.342381\n",
              "\n",
              "[5 rows x 18 columns]"
            ]
          },
          "metadata": {},
          "execution_count": 821
        }
      ]
    },
    {
      "cell_type": "code",
      "metadata": {
        "colab": {
          "base_uri": "https://localhost:8080/",
          "height": 206
        },
        "id": "to2mNt5vggGn",
        "outputId": "abd4e2b0-1a6b-4ff6-af43-d63cd3cff78b"
      },
      "source": [
        "# adding to dict file\n",
        "# caec - discuss with Professor how you rank categorical variables when the original question is unclear?   \n",
        "caec = {'Always': 3,'Frequently': 2,'Sometimes': 1,'no': 0}\n",
        "calc = {'Always': 3,'Frequently': 2,'Sometimes': 1,'no': 0}\n",
        "  \n",
        "# traversing through dataframe\n",
        "# caec, calc column and writing\n",
        "# values where key matches\n",
        "obesity.CAEC = [caec[item] for item in obesity.CAEC]\n",
        "obesity.CALC = [calc[item] for item in obesity.CALC]\n",
        "obesity.head()"
      ],
      "id": "to2mNt5vggGn",
      "execution_count": 822,
      "outputs": [
        {
          "output_type": "execute_result",
          "data": {
            "text/html": [
              "<div>\n",
              "<style scoped>\n",
              "    .dataframe tbody tr th:only-of-type {\n",
              "        vertical-align: middle;\n",
              "    }\n",
              "\n",
              "    .dataframe tbody tr th {\n",
              "        vertical-align: top;\n",
              "    }\n",
              "\n",
              "    .dataframe thead th {\n",
              "        text-align: right;\n",
              "    }\n",
              "</style>\n",
              "<table border=\"1\" class=\"dataframe\">\n",
              "  <thead>\n",
              "    <tr style=\"text-align: right;\">\n",
              "      <th></th>\n",
              "      <th>Gender</th>\n",
              "      <th>Age</th>\n",
              "      <th>Height</th>\n",
              "      <th>Weight</th>\n",
              "      <th>Family</th>\n",
              "      <th>FAVC</th>\n",
              "      <th>FCVC</th>\n",
              "      <th>NCP</th>\n",
              "      <th>CAEC</th>\n",
              "      <th>SMOKE</th>\n",
              "      <th>CH2O</th>\n",
              "      <th>SCC</th>\n",
              "      <th>FAF</th>\n",
              "      <th>TUE</th>\n",
              "      <th>CALC</th>\n",
              "      <th>MTRANS</th>\n",
              "      <th>NObeyesdad</th>\n",
              "      <th>BMI</th>\n",
              "    </tr>\n",
              "  </thead>\n",
              "  <tbody>\n",
              "    <tr>\n",
              "      <th>0</th>\n",
              "      <td>Female</td>\n",
              "      <td>21.0</td>\n",
              "      <td>1.62</td>\n",
              "      <td>64.0</td>\n",
              "      <td>1</td>\n",
              "      <td>0</td>\n",
              "      <td>2.0</td>\n",
              "      <td>3.0</td>\n",
              "      <td>1</td>\n",
              "      <td>0</td>\n",
              "      <td>2.0</td>\n",
              "      <td>0</td>\n",
              "      <td>0.0</td>\n",
              "      <td>1.0</td>\n",
              "      <td>0</td>\n",
              "      <td>Public_Transportation</td>\n",
              "      <td>Normal_Weight</td>\n",
              "      <td>24.386526</td>\n",
              "    </tr>\n",
              "    <tr>\n",
              "      <th>1</th>\n",
              "      <td>Female</td>\n",
              "      <td>21.0</td>\n",
              "      <td>1.52</td>\n",
              "      <td>56.0</td>\n",
              "      <td>1</td>\n",
              "      <td>0</td>\n",
              "      <td>3.0</td>\n",
              "      <td>3.0</td>\n",
              "      <td>1</td>\n",
              "      <td>1</td>\n",
              "      <td>3.0</td>\n",
              "      <td>1</td>\n",
              "      <td>3.0</td>\n",
              "      <td>0.0</td>\n",
              "      <td>1</td>\n",
              "      <td>Public_Transportation</td>\n",
              "      <td>Normal_Weight</td>\n",
              "      <td>24.238227</td>\n",
              "    </tr>\n",
              "    <tr>\n",
              "      <th>2</th>\n",
              "      <td>Male</td>\n",
              "      <td>23.0</td>\n",
              "      <td>1.80</td>\n",
              "      <td>77.0</td>\n",
              "      <td>1</td>\n",
              "      <td>0</td>\n",
              "      <td>2.0</td>\n",
              "      <td>3.0</td>\n",
              "      <td>1</td>\n",
              "      <td>0</td>\n",
              "      <td>2.0</td>\n",
              "      <td>0</td>\n",
              "      <td>2.0</td>\n",
              "      <td>1.0</td>\n",
              "      <td>2</td>\n",
              "      <td>Public_Transportation</td>\n",
              "      <td>Normal_Weight</td>\n",
              "      <td>23.765432</td>\n",
              "    </tr>\n",
              "    <tr>\n",
              "      <th>3</th>\n",
              "      <td>Male</td>\n",
              "      <td>27.0</td>\n",
              "      <td>1.80</td>\n",
              "      <td>87.0</td>\n",
              "      <td>0</td>\n",
              "      <td>0</td>\n",
              "      <td>3.0</td>\n",
              "      <td>3.0</td>\n",
              "      <td>1</td>\n",
              "      <td>0</td>\n",
              "      <td>2.0</td>\n",
              "      <td>0</td>\n",
              "      <td>2.0</td>\n",
              "      <td>0.0</td>\n",
              "      <td>2</td>\n",
              "      <td>Walking</td>\n",
              "      <td>Overweight_Level_I</td>\n",
              "      <td>26.851852</td>\n",
              "    </tr>\n",
              "    <tr>\n",
              "      <th>4</th>\n",
              "      <td>Male</td>\n",
              "      <td>22.0</td>\n",
              "      <td>1.78</td>\n",
              "      <td>89.8</td>\n",
              "      <td>0</td>\n",
              "      <td>0</td>\n",
              "      <td>2.0</td>\n",
              "      <td>1.0</td>\n",
              "      <td>1</td>\n",
              "      <td>0</td>\n",
              "      <td>2.0</td>\n",
              "      <td>0</td>\n",
              "      <td>0.0</td>\n",
              "      <td>0.0</td>\n",
              "      <td>1</td>\n",
              "      <td>Public_Transportation</td>\n",
              "      <td>Overweight_Level_II</td>\n",
              "      <td>28.342381</td>\n",
              "    </tr>\n",
              "  </tbody>\n",
              "</table>\n",
              "</div>"
            ],
            "text/plain": [
              "   Gender   Age  Height  ...                 MTRANS           NObeyesdad        BMI\n",
              "0  Female  21.0    1.62  ...  Public_Transportation        Normal_Weight  24.386526\n",
              "1  Female  21.0    1.52  ...  Public_Transportation        Normal_Weight  24.238227\n",
              "2    Male  23.0    1.80  ...  Public_Transportation        Normal_Weight  23.765432\n",
              "3    Male  27.0    1.80  ...                Walking   Overweight_Level_I  26.851852\n",
              "4    Male  22.0    1.78  ...  Public_Transportation  Overweight_Level_II  28.342381\n",
              "\n",
              "[5 rows x 18 columns]"
            ]
          },
          "metadata": {},
          "execution_count": 822
        }
      ]
    },
    {
      "cell_type": "code",
      "metadata": {
        "colab": {
          "base_uri": "https://localhost:8080/",
          "height": 206
        },
        "id": "zySXTrjHaFNH",
        "outputId": "f24c7df1-6844-4661-dcf0-2f9e9812f019"
      },
      "source": [
        "# adding to dict file if obese or not obese   \n",
        "gender = {'Female': 0,'Male': 1}\n",
        "  \n",
        "# traversing through dataframe\n",
        "# nobeyesdad column and writing\n",
        "# values where key matches\n",
        "obesity.Gender = [gender[item] for item in obesity.Gender]\n",
        "obesity.head()"
      ],
      "id": "zySXTrjHaFNH",
      "execution_count": 823,
      "outputs": [
        {
          "output_type": "execute_result",
          "data": {
            "text/html": [
              "<div>\n",
              "<style scoped>\n",
              "    .dataframe tbody tr th:only-of-type {\n",
              "        vertical-align: middle;\n",
              "    }\n",
              "\n",
              "    .dataframe tbody tr th {\n",
              "        vertical-align: top;\n",
              "    }\n",
              "\n",
              "    .dataframe thead th {\n",
              "        text-align: right;\n",
              "    }\n",
              "</style>\n",
              "<table border=\"1\" class=\"dataframe\">\n",
              "  <thead>\n",
              "    <tr style=\"text-align: right;\">\n",
              "      <th></th>\n",
              "      <th>Gender</th>\n",
              "      <th>Age</th>\n",
              "      <th>Height</th>\n",
              "      <th>Weight</th>\n",
              "      <th>Family</th>\n",
              "      <th>FAVC</th>\n",
              "      <th>FCVC</th>\n",
              "      <th>NCP</th>\n",
              "      <th>CAEC</th>\n",
              "      <th>SMOKE</th>\n",
              "      <th>CH2O</th>\n",
              "      <th>SCC</th>\n",
              "      <th>FAF</th>\n",
              "      <th>TUE</th>\n",
              "      <th>CALC</th>\n",
              "      <th>MTRANS</th>\n",
              "      <th>NObeyesdad</th>\n",
              "      <th>BMI</th>\n",
              "    </tr>\n",
              "  </thead>\n",
              "  <tbody>\n",
              "    <tr>\n",
              "      <th>0</th>\n",
              "      <td>0</td>\n",
              "      <td>21.0</td>\n",
              "      <td>1.62</td>\n",
              "      <td>64.0</td>\n",
              "      <td>1</td>\n",
              "      <td>0</td>\n",
              "      <td>2.0</td>\n",
              "      <td>3.0</td>\n",
              "      <td>1</td>\n",
              "      <td>0</td>\n",
              "      <td>2.0</td>\n",
              "      <td>0</td>\n",
              "      <td>0.0</td>\n",
              "      <td>1.0</td>\n",
              "      <td>0</td>\n",
              "      <td>Public_Transportation</td>\n",
              "      <td>Normal_Weight</td>\n",
              "      <td>24.386526</td>\n",
              "    </tr>\n",
              "    <tr>\n",
              "      <th>1</th>\n",
              "      <td>0</td>\n",
              "      <td>21.0</td>\n",
              "      <td>1.52</td>\n",
              "      <td>56.0</td>\n",
              "      <td>1</td>\n",
              "      <td>0</td>\n",
              "      <td>3.0</td>\n",
              "      <td>3.0</td>\n",
              "      <td>1</td>\n",
              "      <td>1</td>\n",
              "      <td>3.0</td>\n",
              "      <td>1</td>\n",
              "      <td>3.0</td>\n",
              "      <td>0.0</td>\n",
              "      <td>1</td>\n",
              "      <td>Public_Transportation</td>\n",
              "      <td>Normal_Weight</td>\n",
              "      <td>24.238227</td>\n",
              "    </tr>\n",
              "    <tr>\n",
              "      <th>2</th>\n",
              "      <td>1</td>\n",
              "      <td>23.0</td>\n",
              "      <td>1.80</td>\n",
              "      <td>77.0</td>\n",
              "      <td>1</td>\n",
              "      <td>0</td>\n",
              "      <td>2.0</td>\n",
              "      <td>3.0</td>\n",
              "      <td>1</td>\n",
              "      <td>0</td>\n",
              "      <td>2.0</td>\n",
              "      <td>0</td>\n",
              "      <td>2.0</td>\n",
              "      <td>1.0</td>\n",
              "      <td>2</td>\n",
              "      <td>Public_Transportation</td>\n",
              "      <td>Normal_Weight</td>\n",
              "      <td>23.765432</td>\n",
              "    </tr>\n",
              "    <tr>\n",
              "      <th>3</th>\n",
              "      <td>1</td>\n",
              "      <td>27.0</td>\n",
              "      <td>1.80</td>\n",
              "      <td>87.0</td>\n",
              "      <td>0</td>\n",
              "      <td>0</td>\n",
              "      <td>3.0</td>\n",
              "      <td>3.0</td>\n",
              "      <td>1</td>\n",
              "      <td>0</td>\n",
              "      <td>2.0</td>\n",
              "      <td>0</td>\n",
              "      <td>2.0</td>\n",
              "      <td>0.0</td>\n",
              "      <td>2</td>\n",
              "      <td>Walking</td>\n",
              "      <td>Overweight_Level_I</td>\n",
              "      <td>26.851852</td>\n",
              "    </tr>\n",
              "    <tr>\n",
              "      <th>4</th>\n",
              "      <td>1</td>\n",
              "      <td>22.0</td>\n",
              "      <td>1.78</td>\n",
              "      <td>89.8</td>\n",
              "      <td>0</td>\n",
              "      <td>0</td>\n",
              "      <td>2.0</td>\n",
              "      <td>1.0</td>\n",
              "      <td>1</td>\n",
              "      <td>0</td>\n",
              "      <td>2.0</td>\n",
              "      <td>0</td>\n",
              "      <td>0.0</td>\n",
              "      <td>0.0</td>\n",
              "      <td>1</td>\n",
              "      <td>Public_Transportation</td>\n",
              "      <td>Overweight_Level_II</td>\n",
              "      <td>28.342381</td>\n",
              "    </tr>\n",
              "  </tbody>\n",
              "</table>\n",
              "</div>"
            ],
            "text/plain": [
              "   Gender   Age  Height  ...                 MTRANS           NObeyesdad        BMI\n",
              "0       0  21.0    1.62  ...  Public_Transportation        Normal_Weight  24.386526\n",
              "1       0  21.0    1.52  ...  Public_Transportation        Normal_Weight  24.238227\n",
              "2       1  23.0    1.80  ...  Public_Transportation        Normal_Weight  23.765432\n",
              "3       1  27.0    1.80  ...                Walking   Overweight_Level_I  26.851852\n",
              "4       1  22.0    1.78  ...  Public_Transportation  Overweight_Level_II  28.342381\n",
              "\n",
              "[5 rows x 18 columns]"
            ]
          },
          "metadata": {},
          "execution_count": 823
        }
      ]
    },
    {
      "cell_type": "code",
      "metadata": {
        "colab": {
          "base_uri": "https://localhost:8080/",
          "height": 551
        },
        "id": "zKYLuCAa8-sU",
        "outputId": "4ff52d21-814d-4e25-c871-8ebb5c32f3ec"
      },
      "source": [
        "#creating a correlation matrix to see which variables I want in the model.\n",
        "corrM_2 = obesity.corr()\n",
        "corrM_2"
      ],
      "id": "zKYLuCAa8-sU",
      "execution_count": 824,
      "outputs": [
        {
          "output_type": "execute_result",
          "data": {
            "text/html": [
              "<div>\n",
              "<style scoped>\n",
              "    .dataframe tbody tr th:only-of-type {\n",
              "        vertical-align: middle;\n",
              "    }\n",
              "\n",
              "    .dataframe tbody tr th {\n",
              "        vertical-align: top;\n",
              "    }\n",
              "\n",
              "    .dataframe thead th {\n",
              "        text-align: right;\n",
              "    }\n",
              "</style>\n",
              "<table border=\"1\" class=\"dataframe\">\n",
              "  <thead>\n",
              "    <tr style=\"text-align: right;\">\n",
              "      <th></th>\n",
              "      <th>Gender</th>\n",
              "      <th>Age</th>\n",
              "      <th>Height</th>\n",
              "      <th>Weight</th>\n",
              "      <th>Family</th>\n",
              "      <th>FAVC</th>\n",
              "      <th>FCVC</th>\n",
              "      <th>NCP</th>\n",
              "      <th>CAEC</th>\n",
              "      <th>SMOKE</th>\n",
              "      <th>CH2O</th>\n",
              "      <th>SCC</th>\n",
              "      <th>FAF</th>\n",
              "      <th>TUE</th>\n",
              "      <th>CALC</th>\n",
              "      <th>BMI</th>\n",
              "    </tr>\n",
              "  </thead>\n",
              "  <tbody>\n",
              "    <tr>\n",
              "      <th>Gender</th>\n",
              "      <td>1.000000</td>\n",
              "      <td>0.048394</td>\n",
              "      <td>0.618466</td>\n",
              "      <td>0.161668</td>\n",
              "      <td>0.102512</td>\n",
              "      <td>0.064934</td>\n",
              "      <td>-0.274505</td>\n",
              "      <td>0.067600</td>\n",
              "      <td>-0.091543</td>\n",
              "      <td>0.044698</td>\n",
              "      <td>0.107930</td>\n",
              "      <td>-0.102633</td>\n",
              "      <td>0.189607</td>\n",
              "      <td>0.017269</td>\n",
              "      <td>-0.007616</td>\n",
              "      <td>-0.053035</td>\n",
              "    </tr>\n",
              "    <tr>\n",
              "      <th>Age</th>\n",
              "      <td>0.048394</td>\n",
              "      <td>1.000000</td>\n",
              "      <td>-0.025958</td>\n",
              "      <td>0.202560</td>\n",
              "      <td>0.205725</td>\n",
              "      <td>0.063902</td>\n",
              "      <td>0.016291</td>\n",
              "      <td>-0.043944</td>\n",
              "      <td>-0.083739</td>\n",
              "      <td>0.091987</td>\n",
              "      <td>-0.045304</td>\n",
              "      <td>-0.116283</td>\n",
              "      <td>-0.144938</td>\n",
              "      <td>-0.296931</td>\n",
              "      <td>0.044487</td>\n",
              "      <td>0.244163</td>\n",
              "    </tr>\n",
              "    <tr>\n",
              "      <th>Height</th>\n",
              "      <td>0.618466</td>\n",
              "      <td>-0.025958</td>\n",
              "      <td>1.000000</td>\n",
              "      <td>0.463136</td>\n",
              "      <td>0.247684</td>\n",
              "      <td>0.178364</td>\n",
              "      <td>-0.038121</td>\n",
              "      <td>0.243672</td>\n",
              "      <td>-0.048818</td>\n",
              "      <td>0.055499</td>\n",
              "      <td>0.213376</td>\n",
              "      <td>-0.133753</td>\n",
              "      <td>0.294709</td>\n",
              "      <td>0.051912</td>\n",
              "      <td>0.129732</td>\n",
              "      <td>0.131785</td>\n",
              "    </tr>\n",
              "    <tr>\n",
              "      <th>Weight</th>\n",
              "      <td>0.161668</td>\n",
              "      <td>0.202560</td>\n",
              "      <td>0.463136</td>\n",
              "      <td>1.000000</td>\n",
              "      <td>0.496820</td>\n",
              "      <td>0.272300</td>\n",
              "      <td>0.216125</td>\n",
              "      <td>0.107469</td>\n",
              "      <td>-0.287493</td>\n",
              "      <td>0.025746</td>\n",
              "      <td>0.200575</td>\n",
              "      <td>-0.201906</td>\n",
              "      <td>-0.051436</td>\n",
              "      <td>-0.071561</td>\n",
              "      <td>0.206677</td>\n",
              "      <td>0.934806</td>\n",
              "    </tr>\n",
              "    <tr>\n",
              "      <th>Family</th>\n",
              "      <td>0.102512</td>\n",
              "      <td>0.205725</td>\n",
              "      <td>0.247684</td>\n",
              "      <td>0.496820</td>\n",
              "      <td>1.000000</td>\n",
              "      <td>0.208036</td>\n",
              "      <td>0.040372</td>\n",
              "      <td>0.071370</td>\n",
              "      <td>-0.169787</td>\n",
              "      <td>0.017385</td>\n",
              "      <td>0.147437</td>\n",
              "      <td>-0.185422</td>\n",
              "      <td>-0.056673</td>\n",
              "      <td>0.022943</td>\n",
              "      <td>-0.036676</td>\n",
              "      <td>0.483508</td>\n",
              "    </tr>\n",
              "    <tr>\n",
              "      <th>FAVC</th>\n",
              "      <td>0.064934</td>\n",
              "      <td>0.063902</td>\n",
              "      <td>0.178364</td>\n",
              "      <td>0.272300</td>\n",
              "      <td>0.208036</td>\n",
              "      <td>1.000000</td>\n",
              "      <td>-0.027283</td>\n",
              "      <td>-0.007000</td>\n",
              "      <td>-0.150068</td>\n",
              "      <td>-0.050660</td>\n",
              "      <td>0.009719</td>\n",
              "      <td>-0.190658</td>\n",
              "      <td>-0.107995</td>\n",
              "      <td>0.068417</td>\n",
              "      <td>0.089520</td>\n",
              "      <td>0.246097</td>\n",
              "    </tr>\n",
              "    <tr>\n",
              "      <th>FCVC</th>\n",
              "      <td>-0.274505</td>\n",
              "      <td>0.016291</td>\n",
              "      <td>-0.038121</td>\n",
              "      <td>0.216125</td>\n",
              "      <td>0.040372</td>\n",
              "      <td>-0.027283</td>\n",
              "      <td>1.000000</td>\n",
              "      <td>0.042216</td>\n",
              "      <td>0.054670</td>\n",
              "      <td>0.014320</td>\n",
              "      <td>0.068461</td>\n",
              "      <td>0.071852</td>\n",
              "      <td>0.019939</td>\n",
              "      <td>-0.101135</td>\n",
              "      <td>0.060781</td>\n",
              "      <td>0.263651</td>\n",
              "    </tr>\n",
              "    <tr>\n",
              "      <th>NCP</th>\n",
              "      <td>0.067600</td>\n",
              "      <td>-0.043944</td>\n",
              "      <td>0.243672</td>\n",
              "      <td>0.107469</td>\n",
              "      <td>0.071370</td>\n",
              "      <td>-0.007000</td>\n",
              "      <td>0.042216</td>\n",
              "      <td>1.000000</td>\n",
              "      <td>0.097801</td>\n",
              "      <td>0.007811</td>\n",
              "      <td>0.057088</td>\n",
              "      <td>-0.015624</td>\n",
              "      <td>0.129504</td>\n",
              "      <td>0.036326</td>\n",
              "      <td>0.071747</td>\n",
              "      <td>0.039969</td>\n",
              "    </tr>\n",
              "    <tr>\n",
              "      <th>CAEC</th>\n",
              "      <td>-0.091543</td>\n",
              "      <td>-0.083739</td>\n",
              "      <td>-0.048818</td>\n",
              "      <td>-0.287493</td>\n",
              "      <td>-0.169787</td>\n",
              "      <td>-0.150068</td>\n",
              "      <td>0.054670</td>\n",
              "      <td>0.097801</td>\n",
              "      <td>1.000000</td>\n",
              "      <td>0.055282</td>\n",
              "      <td>-0.144995</td>\n",
              "      <td>0.109179</td>\n",
              "      <td>0.030110</td>\n",
              "      <td>0.048567</td>\n",
              "      <td>-0.047540</td>\n",
              "      <td>-0.313278</td>\n",
              "    </tr>\n",
              "    <tr>\n",
              "      <th>SMOKE</th>\n",
              "      <td>0.044698</td>\n",
              "      <td>0.091987</td>\n",
              "      <td>0.055499</td>\n",
              "      <td>0.025746</td>\n",
              "      <td>0.017385</td>\n",
              "      <td>-0.050660</td>\n",
              "      <td>0.014320</td>\n",
              "      <td>0.007811</td>\n",
              "      <td>0.055282</td>\n",
              "      <td>1.000000</td>\n",
              "      <td>-0.031995</td>\n",
              "      <td>0.047731</td>\n",
              "      <td>0.011216</td>\n",
              "      <td>0.017613</td>\n",
              "      <td>0.082471</td>\n",
              "      <td>-0.000819</td>\n",
              "    </tr>\n",
              "    <tr>\n",
              "      <th>CH2O</th>\n",
              "      <td>0.107930</td>\n",
              "      <td>-0.045304</td>\n",
              "      <td>0.213376</td>\n",
              "      <td>0.200575</td>\n",
              "      <td>0.147437</td>\n",
              "      <td>0.009719</td>\n",
              "      <td>0.068461</td>\n",
              "      <td>0.057088</td>\n",
              "      <td>-0.144995</td>\n",
              "      <td>-0.031995</td>\n",
              "      <td>1.000000</td>\n",
              "      <td>0.008036</td>\n",
              "      <td>0.167236</td>\n",
              "      <td>0.011965</td>\n",
              "      <td>0.091386</td>\n",
              "      <td>0.144200</td>\n",
              "    </tr>\n",
              "    <tr>\n",
              "      <th>SCC</th>\n",
              "      <td>-0.102633</td>\n",
              "      <td>-0.116283</td>\n",
              "      <td>-0.133753</td>\n",
              "      <td>-0.201906</td>\n",
              "      <td>-0.185422</td>\n",
              "      <td>-0.190658</td>\n",
              "      <td>0.071852</td>\n",
              "      <td>-0.015624</td>\n",
              "      <td>0.109179</td>\n",
              "      <td>0.047731</td>\n",
              "      <td>0.008036</td>\n",
              "      <td>1.000000</td>\n",
              "      <td>0.074221</td>\n",
              "      <td>-0.010928</td>\n",
              "      <td>0.003463</td>\n",
              "      <td>-0.184286</td>\n",
              "    </tr>\n",
              "    <tr>\n",
              "      <th>FAF</th>\n",
              "      <td>0.189607</td>\n",
              "      <td>-0.144938</td>\n",
              "      <td>0.294709</td>\n",
              "      <td>-0.051436</td>\n",
              "      <td>-0.056673</td>\n",
              "      <td>-0.107995</td>\n",
              "      <td>0.019939</td>\n",
              "      <td>0.129504</td>\n",
              "      <td>0.030110</td>\n",
              "      <td>0.011216</td>\n",
              "      <td>0.167236</td>\n",
              "      <td>0.074221</td>\n",
              "      <td>1.000000</td>\n",
              "      <td>0.058562</td>\n",
              "      <td>-0.086799</td>\n",
              "      <td>-0.177537</td>\n",
              "    </tr>\n",
              "    <tr>\n",
              "      <th>TUE</th>\n",
              "      <td>0.017269</td>\n",
              "      <td>-0.296931</td>\n",
              "      <td>0.051912</td>\n",
              "      <td>-0.071561</td>\n",
              "      <td>0.022943</td>\n",
              "      <td>0.068417</td>\n",
              "      <td>-0.101135</td>\n",
              "      <td>0.036326</td>\n",
              "      <td>0.048567</td>\n",
              "      <td>0.017613</td>\n",
              "      <td>0.011965</td>\n",
              "      <td>-0.010928</td>\n",
              "      <td>0.058562</td>\n",
              "      <td>1.000000</td>\n",
              "      <td>-0.045864</td>\n",
              "      <td>-0.099720</td>\n",
              "    </tr>\n",
              "    <tr>\n",
              "      <th>CALC</th>\n",
              "      <td>-0.007616</td>\n",
              "      <td>0.044487</td>\n",
              "      <td>0.129732</td>\n",
              "      <td>0.206677</td>\n",
              "      <td>-0.036676</td>\n",
              "      <td>0.089520</td>\n",
              "      <td>0.060781</td>\n",
              "      <td>0.071747</td>\n",
              "      <td>-0.047540</td>\n",
              "      <td>0.082471</td>\n",
              "      <td>0.091386</td>\n",
              "      <td>0.003463</td>\n",
              "      <td>-0.086799</td>\n",
              "      <td>-0.045864</td>\n",
              "      <td>1.000000</td>\n",
              "      <td>0.169805</td>\n",
              "    </tr>\n",
              "    <tr>\n",
              "      <th>BMI</th>\n",
              "      <td>-0.053035</td>\n",
              "      <td>0.244163</td>\n",
              "      <td>0.131785</td>\n",
              "      <td>0.934806</td>\n",
              "      <td>0.483508</td>\n",
              "      <td>0.246097</td>\n",
              "      <td>0.263651</td>\n",
              "      <td>0.039969</td>\n",
              "      <td>-0.313278</td>\n",
              "      <td>-0.000819</td>\n",
              "      <td>0.144200</td>\n",
              "      <td>-0.184286</td>\n",
              "      <td>-0.177537</td>\n",
              "      <td>-0.099720</td>\n",
              "      <td>0.169805</td>\n",
              "      <td>1.000000</td>\n",
              "    </tr>\n",
              "  </tbody>\n",
              "</table>\n",
              "</div>"
            ],
            "text/plain": [
              "          Gender       Age    Height  ...       TUE      CALC       BMI\n",
              "Gender  1.000000  0.048394  0.618466  ...  0.017269 -0.007616 -0.053035\n",
              "Age     0.048394  1.000000 -0.025958  ... -0.296931  0.044487  0.244163\n",
              "Height  0.618466 -0.025958  1.000000  ...  0.051912  0.129732  0.131785\n",
              "Weight  0.161668  0.202560  0.463136  ... -0.071561  0.206677  0.934806\n",
              "Family  0.102512  0.205725  0.247684  ...  0.022943 -0.036676  0.483508\n",
              "FAVC    0.064934  0.063902  0.178364  ...  0.068417  0.089520  0.246097\n",
              "FCVC   -0.274505  0.016291 -0.038121  ... -0.101135  0.060781  0.263651\n",
              "NCP     0.067600 -0.043944  0.243672  ...  0.036326  0.071747  0.039969\n",
              "CAEC   -0.091543 -0.083739 -0.048818  ...  0.048567 -0.047540 -0.313278\n",
              "SMOKE   0.044698  0.091987  0.055499  ...  0.017613  0.082471 -0.000819\n",
              "CH2O    0.107930 -0.045304  0.213376  ...  0.011965  0.091386  0.144200\n",
              "SCC    -0.102633 -0.116283 -0.133753  ... -0.010928  0.003463 -0.184286\n",
              "FAF     0.189607 -0.144938  0.294709  ...  0.058562 -0.086799 -0.177537\n",
              "TUE     0.017269 -0.296931  0.051912  ...  1.000000 -0.045864 -0.099720\n",
              "CALC   -0.007616  0.044487  0.129732  ... -0.045864  1.000000  0.169805\n",
              "BMI    -0.053035  0.244163  0.131785  ... -0.099720  0.169805  1.000000\n",
              "\n",
              "[16 rows x 16 columns]"
            ]
          },
          "metadata": {},
          "execution_count": 824
        }
      ]
    },
    {
      "cell_type": "code",
      "metadata": {
        "id": "Dpv0ZM5e9UFs"
      },
      "source": [
        "#converting dataset to a dataframe to chart\n",
        "ob_corr_df = pd.DataFrame(corrM_2)"
      ],
      "id": "Dpv0ZM5e9UFs",
      "execution_count": 825,
      "outputs": []
    },
    {
      "cell_type": "code",
      "metadata": {
        "colab": {
          "base_uri": "https://localhost:8080/",
          "height": 310
        },
        "id": "RlY1A5Iw9g2d",
        "outputId": "1dde6e55-4549-41eb-c385-40c76ee1374e"
      },
      "source": [
        "#creating heat map of correlated data\n",
        "ob_heatmap = sns.heatmap(ob_corr_df, cmap=\"coolwarm\", vmin=-1, vmax=1)\n",
        "ob_heatmap.set_title(\"Obesity Correlation Coeff.\")\n",
        "\n",
        "plt.show()"
      ],
      "id": "RlY1A5Iw9g2d",
      "execution_count": 826,
      "outputs": [
        {
          "output_type": "display_data",
          "data": {
            "image/png": "[encoded data removed]",
            "text/plain": [
              "<Figure size 432x288 with 2 Axes>"
            ]
          },
          "metadata": {
            "needs_background": "light"
          }
        }
      ]
    },
    {
      "cell_type": "markdown",
      "metadata": {
        "id": "JZs1PL7qGnC8"
      },
      "source": [
        "Weight and obesity are very related so its possible it could add bias to the models.  I will create some models without the weight variable to see its effect."
      ],
      "id": "JZs1PL7qGnC8"
    },
    {
      "cell_type": "markdown",
      "metadata": {
        "id": "tguoICyd5JsE"
      },
      "source": [
        "#Models Part I - Seven Classes"
      ],
      "id": "tguoICyd5JsE"
    },
    {
      "cell_type": "code",
      "metadata": {
        "colab": {
          "base_uri": "https://localhost:8080/",
          "height": 206
        },
        "id": "caRf_30m58AK",
        "outputId": "8736424f-8ee0-49d1-81de-24e36e83450b"
      },
      "source": [
        "# adding to dict file to create 7 categories for obesity   \n",
        "obese = {'Insufficient_Weight': 0,'Normal_Weight': 1, 'Overweight_Level_I': 2, 'Overweight_Level_II': 3,'Obesity_Type_I': 4,'Obesity_Type_II': 5,\n",
        "         'Obesity_Type_III': 6}\n",
        "  \n",
        "# traversing through dataframe\n",
        "# nobeyesdad column and writing\n",
        "# values where key matches\n",
        "obesity.NObeyesdad = [obese[item] for item in obesity.NObeyesdad]\n",
        "obesity.head()"
      ],
      "id": "caRf_30m58AK",
      "execution_count": 827,
      "outputs": [
        {
          "output_type": "execute_result",
          "data": {
            "text/html": [
              "<div>\n",
              "<style scoped>\n",
              "    .dataframe tbody tr th:only-of-type {\n",
              "        vertical-align: middle;\n",
              "    }\n",
              "\n",
              "    .dataframe tbody tr th {\n",
              "        vertical-align: top;\n",
              "    }\n",
              "\n",
              "    .dataframe thead th {\n",
              "        text-align: right;\n",
              "    }\n",
              "</style>\n",
              "<table border=\"1\" class=\"dataframe\">\n",
              "  <thead>\n",
              "    <tr style=\"text-align: right;\">\n",
              "      <th></th>\n",
              "      <th>Gender</th>\n",
              "      <th>Age</th>\n",
              "      <th>Height</th>\n",
              "      <th>Weight</th>\n",
              "      <th>Family</th>\n",
              "      <th>FAVC</th>\n",
              "      <th>FCVC</th>\n",
              "      <th>NCP</th>\n",
              "      <th>CAEC</th>\n",
              "      <th>SMOKE</th>\n",
              "      <th>CH2O</th>\n",
              "      <th>SCC</th>\n",
              "      <th>FAF</th>\n",
              "      <th>TUE</th>\n",
              "      <th>CALC</th>\n",
              "      <th>MTRANS</th>\n",
              "      <th>NObeyesdad</th>\n",
              "      <th>BMI</th>\n",
              "    </tr>\n",
              "  </thead>\n",
              "  <tbody>\n",
              "    <tr>\n",
              "      <th>0</th>\n",
              "      <td>0</td>\n",
              "      <td>21.0</td>\n",
              "      <td>1.62</td>\n",
              "      <td>64.0</td>\n",
              "      <td>1</td>\n",
              "      <td>0</td>\n",
              "      <td>2.0</td>\n",
              "      <td>3.0</td>\n",
              "      <td>1</td>\n",
              "      <td>0</td>\n",
              "      <td>2.0</td>\n",
              "      <td>0</td>\n",
              "      <td>0.0</td>\n",
              "      <td>1.0</td>\n",
              "      <td>0</td>\n",
              "      <td>Public_Transportation</td>\n",
              "      <td>1</td>\n",
              "      <td>24.386526</td>\n",
              "    </tr>\n",
              "    <tr>\n",
              "      <th>1</th>\n",
              "      <td>0</td>\n",
              "      <td>21.0</td>\n",
              "      <td>1.52</td>\n",
              "      <td>56.0</td>\n",
              "      <td>1</td>\n",
              "      <td>0</td>\n",
              "      <td>3.0</td>\n",
              "      <td>3.0</td>\n",
              "      <td>1</td>\n",
              "      <td>1</td>\n",
              "      <td>3.0</td>\n",
              "      <td>1</td>\n",
              "      <td>3.0</td>\n",
              "      <td>0.0</td>\n",
              "      <td>1</td>\n",
              "      <td>Public_Transportation</td>\n",
              "      <td>1</td>\n",
              "      <td>24.238227</td>\n",
              "    </tr>\n",
              "    <tr>\n",
              "      <th>2</th>\n",
              "      <td>1</td>\n",
              "      <td>23.0</td>\n",
              "      <td>1.80</td>\n",
              "      <td>77.0</td>\n",
              "      <td>1</td>\n",
              "      <td>0</td>\n",
              "      <td>2.0</td>\n",
              "      <td>3.0</td>\n",
              "      <td>1</td>\n",
              "      <td>0</td>\n",
              "      <td>2.0</td>\n",
              "      <td>0</td>\n",
              "      <td>2.0</td>\n",
              "      <td>1.0</td>\n",
              "      <td>2</td>\n",
              "      <td>Public_Transportation</td>\n",
              "      <td>1</td>\n",
              "      <td>23.765432</td>\n",
              "    </tr>\n",
              "    <tr>\n",
              "      <th>3</th>\n",
              "      <td>1</td>\n",
              "      <td>27.0</td>\n",
              "      <td>1.80</td>\n",
              "      <td>87.0</td>\n",
              "      <td>0</td>\n",
              "      <td>0</td>\n",
              "      <td>3.0</td>\n",
              "      <td>3.0</td>\n",
              "      <td>1</td>\n",
              "      <td>0</td>\n",
              "      <td>2.0</td>\n",
              "      <td>0</td>\n",
              "      <td>2.0</td>\n",
              "      <td>0.0</td>\n",
              "      <td>2</td>\n",
              "      <td>Walking</td>\n",
              "      <td>2</td>\n",
              "      <td>26.851852</td>\n",
              "    </tr>\n",
              "    <tr>\n",
              "      <th>4</th>\n",
              "      <td>1</td>\n",
              "      <td>22.0</td>\n",
              "      <td>1.78</td>\n",
              "      <td>89.8</td>\n",
              "      <td>0</td>\n",
              "      <td>0</td>\n",
              "      <td>2.0</td>\n",
              "      <td>1.0</td>\n",
              "      <td>1</td>\n",
              "      <td>0</td>\n",
              "      <td>2.0</td>\n",
              "      <td>0</td>\n",
              "      <td>0.0</td>\n",
              "      <td>0.0</td>\n",
              "      <td>1</td>\n",
              "      <td>Public_Transportation</td>\n",
              "      <td>3</td>\n",
              "      <td>28.342381</td>\n",
              "    </tr>\n",
              "  </tbody>\n",
              "</table>\n",
              "</div>"
            ],
            "text/plain": [
              "   Gender   Age  Height  ...                 MTRANS  NObeyesdad        BMI\n",
              "0       0  21.0    1.62  ...  Public_Transportation           1  24.386526\n",
              "1       0  21.0    1.52  ...  Public_Transportation           1  24.238227\n",
              "2       1  23.0    1.80  ...  Public_Transportation           1  23.765432\n",
              "3       1  27.0    1.80  ...                Walking           2  26.851852\n",
              "4       1  22.0    1.78  ...  Public_Transportation           3  28.342381\n",
              "\n",
              "[5 rows x 18 columns]"
            ]
          },
          "metadata": {},
          "execution_count": 827
        }
      ]
    },
    {
      "cell_type": "markdown",
      "metadata": {
        "id": "p4CWTyzx61hQ"
      },
      "source": [
        "##Model A: 7 Classes - No Weight"
      ],
      "id": "p4CWTyzx61hQ"
    },
    {
      "cell_type": "code",
      "metadata": {
        "id": "0mXk2AIs6sLy"
      },
      "source": [
        "#split dataset into feature (independent variables) and target (dependent) variables\n",
        "feature_cols = ['Age', 'Height', 'Family','FAVC','CAEC','SMOKE', 'FAF', 'CALC', 'FCVC', 'NCP', 'Gender',\n",
        "                'CH2O', 'SCC', 'TUE']\n",
        "X = obesity[feature_cols] # Features\n",
        "y = obesity.NObeyesdad # Target variable"
      ],
      "id": "0mXk2AIs6sLy",
      "execution_count": 828,
      "outputs": []
    },
    {
      "cell_type": "code",
      "metadata": {
        "colab": {
          "base_uri": "https://localhost:8080/",
          "height": 206
        },
        "id": "aziC317t7pYT",
        "outputId": "6384f0b0-7e5a-460b-fd67-ac2dca47c1de"
      },
      "source": [
        "X.head()"
      ],
      "id": "aziC317t7pYT",
      "execution_count": 829,
      "outputs": [
        {
          "output_type": "execute_result",
          "data": {
            "text/html": [
              "<div>\n",
              "<style scoped>\n",
              "    .dataframe tbody tr th:only-of-type {\n",
              "        vertical-align: middle;\n",
              "    }\n",
              "\n",
              "    .dataframe tbody tr th {\n",
              "        vertical-align: top;\n",
              "    }\n",
              "\n",
              "    .dataframe thead th {\n",
              "        text-align: right;\n",
              "    }\n",
              "</style>\n",
              "<table border=\"1\" class=\"dataframe\">\n",
              "  <thead>\n",
              "    <tr style=\"text-align: right;\">\n",
              "      <th></th>\n",
              "      <th>Age</th>\n",
              "      <th>Height</th>\n",
              "      <th>Family</th>\n",
              "      <th>FAVC</th>\n",
              "      <th>CAEC</th>\n",
              "      <th>SMOKE</th>\n",
              "      <th>FAF</th>\n",
              "      <th>CALC</th>\n",
              "      <th>FCVC</th>\n",
              "      <th>NCP</th>\n",
              "      <th>Gender</th>\n",
              "      <th>CH2O</th>\n",
              "      <th>SCC</th>\n",
              "      <th>TUE</th>\n",
              "    </tr>\n",
              "  </thead>\n",
              "  <tbody>\n",
              "    <tr>\n",
              "      <th>0</th>\n",
              "      <td>21.0</td>\n",
              "      <td>1.62</td>\n",
              "      <td>1</td>\n",
              "      <td>0</td>\n",
              "      <td>1</td>\n",
              "      <td>0</td>\n",
              "      <td>0.0</td>\n",
              "      <td>0</td>\n",
              "      <td>2.0</td>\n",
              "      <td>3.0</td>\n",
              "      <td>0</td>\n",
              "      <td>2.0</td>\n",
              "      <td>0</td>\n",
              "      <td>1.0</td>\n",
              "    </tr>\n",
              "    <tr>\n",
              "      <th>1</th>\n",
              "      <td>21.0</td>\n",
              "      <td>1.52</td>\n",
              "      <td>1</td>\n",
              "      <td>0</td>\n",
              "      <td>1</td>\n",
              "      <td>1</td>\n",
              "      <td>3.0</td>\n",
              "      <td>1</td>\n",
              "      <td>3.0</td>\n",
              "      <td>3.0</td>\n",
              "      <td>0</td>\n",
              "      <td>3.0</td>\n",
              "      <td>1</td>\n",
              "      <td>0.0</td>\n",
              "    </tr>\n",
              "    <tr>\n",
              "      <th>2</th>\n",
              "      <td>23.0</td>\n",
              "      <td>1.80</td>\n",
              "      <td>1</td>\n",
              "      <td>0</td>\n",
              "      <td>1</td>\n",
              "      <td>0</td>\n",
              "      <td>2.0</td>\n",
              "      <td>2</td>\n",
              "      <td>2.0</td>\n",
              "      <td>3.0</td>\n",
              "      <td>1</td>\n",
              "      <td>2.0</td>\n",
              "      <td>0</td>\n",
              "      <td>1.0</td>\n",
              "    </tr>\n",
              "    <tr>\n",
              "      <th>3</th>\n",
              "      <td>27.0</td>\n",
              "      <td>1.80</td>\n",
              "      <td>0</td>\n",
              "      <td>0</td>\n",
              "      <td>1</td>\n",
              "      <td>0</td>\n",
              "      <td>2.0</td>\n",
              "      <td>2</td>\n",
              "      <td>3.0</td>\n",
              "      <td>3.0</td>\n",
              "      <td>1</td>\n",
              "      <td>2.0</td>\n",
              "      <td>0</td>\n",
              "      <td>0.0</td>\n",
              "    </tr>\n",
              "    <tr>\n",
              "      <th>4</th>\n",
              "      <td>22.0</td>\n",
              "      <td>1.78</td>\n",
              "      <td>0</td>\n",
              "      <td>0</td>\n",
              "      <td>1</td>\n",
              "      <td>0</td>\n",
              "      <td>0.0</td>\n",
              "      <td>1</td>\n",
              "      <td>2.0</td>\n",
              "      <td>1.0</td>\n",
              "      <td>1</td>\n",
              "      <td>2.0</td>\n",
              "      <td>0</td>\n",
              "      <td>0.0</td>\n",
              "    </tr>\n",
              "  </tbody>\n",
              "</table>\n",
              "</div>"
            ],
            "text/plain": [
              "    Age  Height  Family  FAVC  CAEC  SMOKE  ...  FCVC  NCP  Gender  CH2O  SCC  TUE\n",
              "0  21.0    1.62       1     0     1      0  ...   2.0  3.0       0   2.0    0  1.0\n",
              "1  21.0    1.52       1     0     1      1  ...   3.0  3.0       0   3.0    1  0.0\n",
              "2  23.0    1.80       1     0     1      0  ...   2.0  3.0       1   2.0    0  1.0\n",
              "3  27.0    1.80       0     0     1      0  ...   3.0  3.0       1   2.0    0  0.0\n",
              "4  22.0    1.78       0     0     1      0  ...   2.0  1.0       1   2.0    0  0.0\n",
              "\n",
              "[5 rows x 14 columns]"
            ]
          },
          "metadata": {},
          "execution_count": 829
        }
      ]
    },
    {
      "cell_type": "code",
      "metadata": {
        "id": "u2k-mRRU7pYU"
      },
      "source": [
        "#split X and y into training and testing sets\n",
        "#dataset broken into two parts, 75% will be used for model training and 25% for model testing\n",
        "from sklearn.model_selection import train_test_split\n",
        "X_train,X_test,y_train,y_test=train_test_split(X,y,test_size=0.25,random_state=0)"
      ],
      "id": "u2k-mRRU7pYU",
      "execution_count": 830,
      "outputs": []
    },
    {
      "cell_type": "code",
      "metadata": {
        "id": "exrQ-MJi7pYU"
      },
      "source": [
        "# import the class\n",
        "from sklearn.linear_model import LogisticRegression\n",
        "\n",
        "# instantiate the model (using the default parameters)\n",
        "logreg = LogisticRegression(multi_class='multinomial', solver='lbfgs')\n",
        "\n",
        "# fit the model with data\n",
        "logreg.fit(X_train,y_train)\n",
        "\n",
        "# predict\n",
        "y_pred=logreg.predict(X_test)"
      ],
      "id": "exrQ-MJi7pYU",
      "execution_count": 831,
      "outputs": []
    },
    {
      "cell_type": "code",
      "metadata": {
        "colab": {
          "base_uri": "https://localhost:8080/"
        },
        "id": "ZzShuVlT7pYU",
        "outputId": "2d67eaa5-cb4c-43e1-f038-3185ed88d255"
      },
      "source": [
        "print('Classes', logreg.classes_)\n",
        "print('Intercept',logreg.intercept_)\n",
        "print(\"Coefficients\", logreg.coef_ )"
      ],
      "id": "ZzShuVlT7pYU",
      "execution_count": 832,
      "outputs": [
        {
          "output_type": "stream",
          "name": "stdout",
          "text": [
            "Classes [0 1 2 3 4 5 6]\n",
            "Intercept [ 0.45401197  0.55543379  0.63815514  0.05361081  0.02762735 -0.9449119\n",
            " -0.78392716]\n",
            "Coefficients [[-0.16558816  0.61972925 -2.49480069 -0.00506223  1.64120049 -0.29345157\n",
            "   0.38743385 -0.66772451  0.27170475  0.57982617 -0.45348622  0.12125235\n",
            "   0.14955517  0.49067261]\n",
            " [-0.00996351  0.49363581 -1.70258689 -0.76884705  1.8712294   0.41795516\n",
            "   0.51174899 -0.19311829 -0.45999507  0.02813177  0.23214225 -0.11364337\n",
            "   0.39396355  0.21158524]\n",
            " [ 0.03446017  0.65723385 -0.95472086  0.77561575 -0.65898265 -0.21924238\n",
            "   0.25627542  0.42883136 -0.61449177 -0.06339138 -0.43450465  0.2003166\n",
            "   1.2105163  -0.01917568]\n",
            " [ 0.13750285  0.05125361  1.03043013 -1.75225593  0.08946442 -0.20736215\n",
            "  -0.10001176 -0.46279021 -0.58752172 -0.47022522  0.81240288  0.10199494\n",
            "  -0.19660287  0.36374326]\n",
            " [ 0.08726074 -0.10519222  1.53376947  0.96635904  0.07301852  0.00482823\n",
            "   0.1034649  -0.49630133 -1.09478878 -0.50633459  0.10261767  0.4067399\n",
            "  -0.42019233  0.03276452]\n",
            " [ 0.13257345 -0.61589548  1.13953813  0.23673245 -1.11787868  0.50098404\n",
            "  -0.23488221  0.00843203 -0.30665343 -0.1798357   3.4391011  -0.76238546\n",
            "  -0.35643629 -0.41717669]\n",
            " [-0.21624555 -1.10076482  1.44837072  0.54745796 -1.89805151 -0.20371133\n",
            "  -0.92402919  1.38267095  2.79174602  0.61182894 -3.69827303  0.04572504\n",
            "  -0.78080354 -0.66241325]]\n"
          ]
        }
      ]
    },
    {
      "cell_type": "code",
      "metadata": {
        "colab": {
          "base_uri": "https://localhost:8080/"
        },
        "id": "nqwMI4TA7pYU",
        "outputId": "070c2aa6-e96f-4b49-b631-c5b5e3d8cdad"
      },
      "source": [
        "print(\"Accuracy\", logreg.score(X_test, y_test))\n",
        "print(classification_report(y_test, logreg.predict(X_test)))"
      ],
      "id": "nqwMI4TA7pYU",
      "execution_count": 833,
      "outputs": [
        {
          "output_type": "stream",
          "name": "stdout",
          "text": [
            "Accuracy 0.5738636363636364\n",
            "              precision    recall  f1-score   support\n",
            "\n",
            "           0       0.63      0.62      0.62        78\n",
            "           1       0.37      0.30      0.33        69\n",
            "           2       0.51      0.29      0.37        68\n",
            "           3       0.34      0.20      0.25        66\n",
            "           4       0.51      0.64      0.57        86\n",
            "           5       0.58      0.79      0.67        73\n",
            "           6       0.80      1.00      0.89        88\n",
            "\n",
            "    accuracy                           0.57       528\n",
            "   macro avg       0.53      0.55      0.53       528\n",
            "weighted avg       0.55      0.57      0.55       528\n",
            "\n"
          ]
        }
      ]
    },
    {
      "cell_type": "markdown",
      "metadata": {
        "id": "sDAGsYh37pYU"
      },
      "source": [
        "Accuracy:  of the total number of inputs 57.39% were predicted accurantely.\n"
      ],
      "id": "sDAGsYh37pYU"
    },
    {
      "cell_type": "code",
      "metadata": {
        "colab": {
          "base_uri": "https://localhost:8080/"
        },
        "id": "ItEXHSLP7pYU",
        "outputId": "f23653f3-6c10-4e48-aaef-8d0ab97a80e2"
      },
      "source": [
        "# import the metrics class\n",
        "from sklearn import metrics\n",
        "cnf_matrix = metrics.confusion_matrix(y_test, y_pred)\n",
        "cnf_matrix"
      ],
      "id": "ItEXHSLP7pYU",
      "execution_count": 834,
      "outputs": [
        {
          "output_type": "execute_result",
          "data": {
            "text/plain": [
              "array([[48, 16,  4,  1,  5,  4,  0],\n",
              "       [21, 21,  7,  6,  4,  3,  7],\n",
              "       [ 3, 11, 20,  7, 14,  6,  7],\n",
              "       [ 2,  6,  5, 13, 21, 16,  3],\n",
              "       [ 2,  3,  2,  6, 55, 13,  5],\n",
              "       [ 0,  0,  1,  5,  9, 58,  0],\n",
              "       [ 0,  0,  0,  0,  0,  0, 88]])"
            ]
          },
          "metadata": {},
          "execution_count": 834
        }
      ]
    },
    {
      "cell_type": "code",
      "metadata": {
        "colab": {
          "base_uri": "https://localhost:8080/",
          "height": 325
        },
        "id": "t6WDiUFz7pYU",
        "outputId": "99ded9c4-7949-48d7-989b-6a4684a1a37f"
      },
      "source": [
        "#name of classes\n",
        "%matplotlib inline\n",
        "class_names=[0, 1, 2, 3, 4, 5, 6]\n",
        "fig, ax = plt.subplots()\n",
        "tick_marks = np.arange(len(class_names))\n",
        "#heatmap\n",
        "sns.heatmap(pd.DataFrame(cnf_matrix), annot=True, cmap=\"PuBu\" ,fmt='g')\n",
        "ax.xaxis.set_label_position(\"top\")\n",
        "plt.tight_layout()\n",
        "plt.title('Confusion matrix', y=1.1)\n",
        "plt.ylabel('Actual label')\n",
        "plt.xlabel('Predicted label')\n",
        "ax.xaxis.set_ticklabels([0, 1, 2, 3, 4, 5, 6])\n",
        "ax.yaxis.set_ticklabels([0, 1, 2, 3, 4, 5, 6]);"
      ],
      "id": "t6WDiUFz7pYU",
      "execution_count": 835,
      "outputs": [
        {
          "output_type": "display_data",
          "data": {
            "image/png": "[encoded data removed]",
            "text/plain": [
              "<Figure size 432x288 with 2 Axes>"
            ]
          },
          "metadata": {
            "needs_background": "light"
          }
        }
      ]
    },
    {
      "cell_type": "code",
      "metadata": {
        "colab": {
          "base_uri": "https://localhost:8080/"
        },
        "id": "dOPhmYtG7pYU",
        "outputId": "a2bcabbd-02d1-4024-e779-fa7fad578235"
      },
      "source": [
        "print(\"Accuracy:\", accuracy_score(y_test, y_pred))\n",
        "print(\"Precision:\", precision_score(y_test, y_pred, average='weighted'))\n",
        "print(\"Recall:\", recall_score(y_test, y_pred, average= 'weighted'))"
      ],
      "id": "dOPhmYtG7pYU",
      "execution_count": 836,
      "outputs": [
        {
          "output_type": "stream",
          "name": "stdout",
          "text": [
            "Accuracy: 0.5738636363636364\n",
            "Precision: 0.5467258504977803\n",
            "Recall: 0.5738636363636364\n"
          ]
        }
      ]
    },
    {
      "cell_type": "markdown",
      "metadata": {
        "id": "25xYeQHn-zr4"
      },
      "source": [
        "##Model B: 7 Classes - With Weight"
      ],
      "id": "25xYeQHn-zr4"
    },
    {
      "cell_type": "code",
      "metadata": {
        "id": "rFF7oXOH-zr4"
      },
      "source": [
        "#split dataset into feature (independent variables) and target (dependent) variables\n",
        "feature_cols = ['Weight','Age', 'Height', 'Family','FAVC','CAEC','SMOKE', 'FAF', 'CALC', 'FCVC', 'NCP', 'Gender',\n",
        "                'CH2O', 'SCC', 'TUE']\n",
        "X = obesity[feature_cols] # Features\n",
        "y = obesity.NObeyesdad # Target variable"
      ],
      "id": "rFF7oXOH-zr4",
      "execution_count": 837,
      "outputs": []
    },
    {
      "cell_type": "code",
      "metadata": {
        "colab": {
          "base_uri": "https://localhost:8080/",
          "height": 206
        },
        "id": "MsAc4oqD-zr4",
        "outputId": "7727139d-e5d1-441e-aecb-219720f32c69"
      },
      "source": [
        "X.head()"
      ],
      "id": "MsAc4oqD-zr4",
      "execution_count": 838,
      "outputs": [
        {
          "output_type": "execute_result",
          "data": {
            "text/html": [
              "<div>\n",
              "<style scoped>\n",
              "    .dataframe tbody tr th:only-of-type {\n",
              "        vertical-align: middle;\n",
              "    }\n",
              "\n",
              "    .dataframe tbody tr th {\n",
              "        vertical-align: top;\n",
              "    }\n",
              "\n",
              "    .dataframe thead th {\n",
              "        text-align: right;\n",
              "    }\n",
              "</style>\n",
              "<table border=\"1\" class=\"dataframe\">\n",
              "  <thead>\n",
              "    <tr style=\"text-align: right;\">\n",
              "      <th></th>\n",
              "      <th>Weight</th>\n",
              "      <th>Age</th>\n",
              "      <th>Height</th>\n",
              "      <th>Family</th>\n",
              "      <th>FAVC</th>\n",
              "      <th>CAEC</th>\n",
              "      <th>SMOKE</th>\n",
              "      <th>FAF</th>\n",
              "      <th>CALC</th>\n",
              "      <th>FCVC</th>\n",
              "      <th>NCP</th>\n",
              "      <th>Gender</th>\n",
              "      <th>CH2O</th>\n",
              "      <th>SCC</th>\n",
              "      <th>TUE</th>\n",
              "    </tr>\n",
              "  </thead>\n",
              "  <tbody>\n",
              "    <tr>\n",
              "      <th>0</th>\n",
              "      <td>64.0</td>\n",
              "      <td>21.0</td>\n",
              "      <td>1.62</td>\n",
              "      <td>1</td>\n",
              "      <td>0</td>\n",
              "      <td>1</td>\n",
              "      <td>0</td>\n",
              "      <td>0.0</td>\n",
              "      <td>0</td>\n",
              "      <td>2.0</td>\n",
              "      <td>3.0</td>\n",
              "      <td>0</td>\n",
              "      <td>2.0</td>\n",
              "      <td>0</td>\n",
              "      <td>1.0</td>\n",
              "    </tr>\n",
              "    <tr>\n",
              "      <th>1</th>\n",
              "      <td>56.0</td>\n",
              "      <td>21.0</td>\n",
              "      <td>1.52</td>\n",
              "      <td>1</td>\n",
              "      <td>0</td>\n",
              "      <td>1</td>\n",
              "      <td>1</td>\n",
              "      <td>3.0</td>\n",
              "      <td>1</td>\n",
              "      <td>3.0</td>\n",
              "      <td>3.0</td>\n",
              "      <td>0</td>\n",
              "      <td>3.0</td>\n",
              "      <td>1</td>\n",
              "      <td>0.0</td>\n",
              "    </tr>\n",
              "    <tr>\n",
              "      <th>2</th>\n",
              "      <td>77.0</td>\n",
              "      <td>23.0</td>\n",
              "      <td>1.80</td>\n",
              "      <td>1</td>\n",
              "      <td>0</td>\n",
              "      <td>1</td>\n",
              "      <td>0</td>\n",
              "      <td>2.0</td>\n",
              "      <td>2</td>\n",
              "      <td>2.0</td>\n",
              "      <td>3.0</td>\n",
              "      <td>1</td>\n",
              "      <td>2.0</td>\n",
              "      <td>0</td>\n",
              "      <td>1.0</td>\n",
              "    </tr>\n",
              "    <tr>\n",
              "      <th>3</th>\n",
              "      <td>87.0</td>\n",
              "      <td>27.0</td>\n",
              "      <td>1.80</td>\n",
              "      <td>0</td>\n",
              "      <td>0</td>\n",
              "      <td>1</td>\n",
              "      <td>0</td>\n",
              "      <td>2.0</td>\n",
              "      <td>2</td>\n",
              "      <td>3.0</td>\n",
              "      <td>3.0</td>\n",
              "      <td>1</td>\n",
              "      <td>2.0</td>\n",
              "      <td>0</td>\n",
              "      <td>0.0</td>\n",
              "    </tr>\n",
              "    <tr>\n",
              "      <th>4</th>\n",
              "      <td>89.8</td>\n",
              "      <td>22.0</td>\n",
              "      <td>1.78</td>\n",
              "      <td>0</td>\n",
              "      <td>0</td>\n",
              "      <td>1</td>\n",
              "      <td>0</td>\n",
              "      <td>0.0</td>\n",
              "      <td>1</td>\n",
              "      <td>2.0</td>\n",
              "      <td>1.0</td>\n",
              "      <td>1</td>\n",
              "      <td>2.0</td>\n",
              "      <td>0</td>\n",
              "      <td>0.0</td>\n",
              "    </tr>\n",
              "  </tbody>\n",
              "</table>\n",
              "</div>"
            ],
            "text/plain": [
              "   Weight   Age  Height  Family  FAVC  CAEC  ...  FCVC  NCP  Gender  CH2O  SCC  TUE\n",
              "0    64.0  21.0    1.62       1     0     1  ...   2.0  3.0       0   2.0    0  1.0\n",
              "1    56.0  21.0    1.52       1     0     1  ...   3.0  3.0       0   3.0    1  0.0\n",
              "2    77.0  23.0    1.80       1     0     1  ...   2.0  3.0       1   2.0    0  1.0\n",
              "3    87.0  27.0    1.80       0     0     1  ...   3.0  3.0       1   2.0    0  0.0\n",
              "4    89.8  22.0    1.78       0     0     1  ...   2.0  1.0       1   2.0    0  0.0\n",
              "\n",
              "[5 rows x 15 columns]"
            ]
          },
          "metadata": {},
          "execution_count": 838
        }
      ]
    },
    {
      "cell_type": "code",
      "metadata": {
        "id": "tYMhgtev-zr4"
      },
      "source": [
        "#split X and y into training and testing sets\n",
        "#dataset broken into two parts, 75% will be used for model training and 25% for model testing\n",
        "from sklearn.model_selection import train_test_split\n",
        "X_train,X_test,y_train,y_test=train_test_split(X,y,test_size=0.25,random_state=0)"
      ],
      "id": "tYMhgtev-zr4",
      "execution_count": 839,
      "outputs": []
    },
    {
      "cell_type": "code",
      "metadata": {
        "id": "-Pr3HY0H-zr4"
      },
      "source": [
        "# import the class\n",
        "from sklearn.linear_model import LogisticRegression\n",
        "\n",
        "# instantiate the model (using the default parameters)\n",
        "logreg = LogisticRegression(multi_class='multinomial', solver='lbfgs')\n",
        "\n",
        "# fit the model with data\n",
        "logreg.fit(X_train,y_train)\n",
        "\n",
        "# predict\n",
        "y_pred=logreg.predict(X_test)"
      ],
      "id": "-Pr3HY0H-zr4",
      "execution_count": 840,
      "outputs": []
    },
    {
      "cell_type": "code",
      "metadata": {
        "colab": {
          "base_uri": "https://localhost:8080/"
        },
        "id": "_ODY2NiP-zr4",
        "outputId": "882fa932-8008-4051-b502-dd02542d35e3"
      },
      "source": [
        "print('Classes', logreg.classes_)\n",
        "print('Intercept',logreg.intercept_)\n",
        "print(\"Coefficients\", logreg.coef_ )"
      ],
      "id": "_ODY2NiP-zr4",
      "execution_count": 841,
      "outputs": [
        {
          "output_type": "stream",
          "name": "stdout",
          "text": [
            "Classes [0 1 2 3 4 5 6]\n",
            "Intercept [ 0.68848811  0.40209708  0.17463724 -0.10467436 -0.23361682 -0.64232758\n",
            " -0.28460367]\n",
            "Coefficients [[-0.33467152  0.08748696  1.22142769 -0.11513698  0.56258297  1.2279407\n",
            "  -0.0515834   1.21389521  0.26053596  1.87710777  2.4102893   0.31150164\n",
            "   1.22165178  0.11417139  0.99400106]\n",
            " [-0.13024476  0.04328284  0.68422941 -0.15861747  0.01345324  1.28916035\n",
            "   0.08696359  1.01334825  0.28014081  0.7263078   1.04342948  0.38264414\n",
            "   0.53803366  0.13460336  0.34846985]\n",
            " [-0.02549718  0.07551174  0.28606113 -0.0593659   0.3819335  -0.46322252\n",
            "  -0.04244002  0.237181    0.5047966   0.06801532  0.03716183  0.02635895\n",
            "   0.5818066   0.17360986 -0.02835242]\n",
            " [ 0.03487941  0.12530396 -0.12743806  0.4483718  -0.51240045 -0.3842688\n",
            "  -0.0204102  -0.19319788 -0.32381205 -0.47953678 -0.62794691  0.37292286\n",
            "   0.01760519 -0.11655696  0.19289907]\n",
            " [ 0.10376423  0.07583046 -0.43822212  0.29426696  0.0711078  -0.39750938\n",
            "  -0.02584324 -0.17399976 -0.65301736 -1.28274581 -1.28695769 -0.21832693\n",
            "  -0.10992344 -0.14279353 -0.12634568]\n",
            " [ 0.19157635 -0.00794101 -0.94141059 -0.28472906 -0.40583205 -0.82443591\n",
            "   0.09164605 -0.50025472 -0.41424074 -1.56513209 -1.46381275  0.80119421\n",
            "  -1.73586106 -0.09858804 -0.93119282]\n",
            " [ 0.16019347 -0.39947495 -0.68464745 -0.12478935 -0.110845   -0.44766443\n",
            "  -0.03833279 -1.59697211  0.34559678  0.65598378 -0.11216326 -1.67629487\n",
            "  -0.51331274 -0.06444608 -0.44947907]]\n"
          ]
        }
      ]
    },
    {
      "cell_type": "code",
      "metadata": {
        "colab": {
          "base_uri": "https://localhost:8080/"
        },
        "id": "t24EqO0h-zr4",
        "outputId": "196765fd-c9f9-4687-bce5-989859ca169a"
      },
      "source": [
        "print(\"Accuracy\", logreg.score(X_test, y_test))\n",
        "print(classification_report(y_test, logreg.predict(X_test)))"
      ],
      "id": "t24EqO0h-zr4",
      "execution_count": 842,
      "outputs": [
        {
          "output_type": "stream",
          "name": "stdout",
          "text": [
            "Accuracy 0.6590909090909091\n",
            "              precision    recall  f1-score   support\n",
            "\n",
            "           0       0.77      0.77      0.77        78\n",
            "           1       0.46      0.51      0.48        69\n",
            "           2       0.53      0.46      0.49        68\n",
            "           3       0.46      0.47      0.47        66\n",
            "           4       0.59      0.42      0.49        86\n",
            "           5       0.75      0.92      0.83        73\n",
            "           6       0.89      1.00      0.94        88\n",
            "\n",
            "    accuracy                           0.66       528\n",
            "   macro avg       0.64      0.65      0.64       528\n",
            "weighted avg       0.65      0.66      0.65       528\n",
            "\n"
          ]
        }
      ]
    },
    {
      "cell_type": "markdown",
      "metadata": {
        "id": "r6DgaxKL-zr4"
      },
      "source": [
        "Accuracy increases to 65.91% were predicted accurantely.\n"
      ],
      "id": "r6DgaxKL-zr4"
    },
    {
      "cell_type": "code",
      "metadata": {
        "colab": {
          "base_uri": "https://localhost:8080/"
        },
        "id": "baZC9A0u-zr4",
        "outputId": "3b5f6ce1-deeb-4396-d785-91feb6c65a53"
      },
      "source": [
        "# import the metrics class\n",
        "from sklearn import metrics\n",
        "cnf_matrix = metrics.confusion_matrix(y_test, y_pred)\n",
        "cnf_matrix"
      ],
      "id": "baZC9A0u-zr4",
      "execution_count": 843,
      "outputs": [
        {
          "output_type": "execute_result",
          "data": {
            "text/plain": [
              "array([[60, 17,  1,  0,  0,  0,  0],\n",
              "       [18, 35, 11,  5,  0,  0,  0],\n",
              "       [ 0, 15, 31,  9, 10,  3,  0],\n",
              "       [ 0,  8, 10, 31, 10,  5,  2],\n",
              "       [ 0,  1,  5, 21, 36, 14,  9],\n",
              "       [ 0,  0,  0,  1,  5, 67,  0],\n",
              "       [ 0,  0,  0,  0,  0,  0, 88]])"
            ]
          },
          "metadata": {},
          "execution_count": 843
        }
      ]
    },
    {
      "cell_type": "code",
      "metadata": {
        "colab": {
          "base_uri": "https://localhost:8080/",
          "height": 325
        },
        "id": "4TY6cWzJ-zr4",
        "outputId": "7bdaf8da-09fd-471f-8163-0cee10396832"
      },
      "source": [
        "#name of classes\n",
        "%matplotlib inline\n",
        "class_names=[0, 1, 2, 3, 4, 5, 6]\n",
        "fig, ax = plt.subplots()\n",
        "tick_marks = np.arange(len(class_names))\n",
        "#heatmap\n",
        "sns.heatmap(pd.DataFrame(cnf_matrix), annot=True, cmap=\"PuBu\" ,fmt='g')\n",
        "ax.xaxis.set_label_position(\"top\")\n",
        "plt.tight_layout()\n",
        "plt.title('Confusion matrix', y=1.1)\n",
        "plt.ylabel('Actual label')\n",
        "plt.xlabel('Predicted label')\n",
        "ax.xaxis.set_ticklabels([0, 1, 2, 3, 4, 5, 6])\n",
        "ax.yaxis.set_ticklabels([0, 1, 2, 3, 4, 5, 6]);"
      ],
      "id": "4TY6cWzJ-zr4",
      "execution_count": 844,
      "outputs": [
        {
          "output_type": "display_data",
          "data": {
            "image/png": "[encoded data removed]",
            "text/plain": [
              "<Figure size 432x288 with 2 Axes>"
            ]
          },
          "metadata": {
            "needs_background": "light"
          }
        }
      ]
    },
    {
      "cell_type": "code",
      "metadata": {
        "colab": {
          "base_uri": "https://localhost:8080/"
        },
        "id": "_xbQFBwT-zr4",
        "outputId": "fbd4158c-7b3a-456e-d61c-c8207c322506"
      },
      "source": [
        "print(\"Accuracy:\", accuracy_score(y_test, y_pred))\n",
        "print(\"Precision:\", precision_score(y_test, y_pred, average='weighted'))\n",
        "print(\"Recall:\", recall_score(y_test, y_pred, average= 'weighted'))"
      ],
      "id": "_xbQFBwT-zr4",
      "execution_count": 845,
      "outputs": [
        {
          "output_type": "stream",
          "name": "stdout",
          "text": [
            "Accuracy: 0.6590909090909091\n",
            "Precision: 0.648844381763579\n",
            "Recall: 0.6590909090909091\n"
          ]
        }
      ]
    },
    {
      "cell_type": "markdown",
      "metadata": {
        "id": "qiEcphh94-yM"
      },
      "source": [
        "#Models Part II - Two Classes"
      ],
      "id": "qiEcphh94-yM"
    },
    {
      "cell_type": "markdown",
      "metadata": {
        "id": "jOQWIpazaIGy"
      },
      "source": [
        "Changing 'NObeyesdad' variable from 7 unique values to 2.  Now there is just 'Not Obese' and 'Obese'."
      ],
      "id": "jOQWIpazaIGy"
    },
    {
      "cell_type": "code",
      "metadata": {
        "colab": {
          "base_uri": "https://localhost:8080/",
          "height": 206
        },
        "id": "7qWsoE--0JBh",
        "outputId": "af23bdb2-a45a-442e-90cc-99aa13e35e25"
      },
      "source": [
        "# adding to dict file if obese or not obese   \n",
        "obese = {0: 'Not Obese',  1: 'Not Obese', 2: 'Not Obese', 3: 'Not Obese', 4: 'Obese', 5: 'Obese',\n",
        "         6: 'Obese'}\n",
        "  \n",
        "# traversing through dataframe\n",
        "# nobeyesdad column and writing\n",
        "# values where key matches\n",
        "obesity.NObeyesdad = [obese[item] for item in obesity.NObeyesdad]\n",
        "obesity.head()"
      ],
      "id": "7qWsoE--0JBh",
      "execution_count": 846,
      "outputs": [
        {
          "output_type": "execute_result",
          "data": {
            "text/html": [
              "<div>\n",
              "<style scoped>\n",
              "    .dataframe tbody tr th:only-of-type {\n",
              "        vertical-align: middle;\n",
              "    }\n",
              "\n",
              "    .dataframe tbody tr th {\n",
              "        vertical-align: top;\n",
              "    }\n",
              "\n",
              "    .dataframe thead th {\n",
              "        text-align: right;\n",
              "    }\n",
              "</style>\n",
              "<table border=\"1\" class=\"dataframe\">\n",
              "  <thead>\n",
              "    <tr style=\"text-align: right;\">\n",
              "      <th></th>\n",
              "      <th>Gender</th>\n",
              "      <th>Age</th>\n",
              "      <th>Height</th>\n",
              "      <th>Weight</th>\n",
              "      <th>Family</th>\n",
              "      <th>FAVC</th>\n",
              "      <th>FCVC</th>\n",
              "      <th>NCP</th>\n",
              "      <th>CAEC</th>\n",
              "      <th>SMOKE</th>\n",
              "      <th>CH2O</th>\n",
              "      <th>SCC</th>\n",
              "      <th>FAF</th>\n",
              "      <th>TUE</th>\n",
              "      <th>CALC</th>\n",
              "      <th>MTRANS</th>\n",
              "      <th>NObeyesdad</th>\n",
              "      <th>BMI</th>\n",
              "    </tr>\n",
              "  </thead>\n",
              "  <tbody>\n",
              "    <tr>\n",
              "      <th>0</th>\n",
              "      <td>0</td>\n",
              "      <td>21.0</td>\n",
              "      <td>1.62</td>\n",
              "      <td>64.0</td>\n",
              "      <td>1</td>\n",
              "      <td>0</td>\n",
              "      <td>2.0</td>\n",
              "      <td>3.0</td>\n",
              "      <td>1</td>\n",
              "      <td>0</td>\n",
              "      <td>2.0</td>\n",
              "      <td>0</td>\n",
              "      <td>0.0</td>\n",
              "      <td>1.0</td>\n",
              "      <td>0</td>\n",
              "      <td>Public_Transportation</td>\n",
              "      <td>Not Obese</td>\n",
              "      <td>24.386526</td>\n",
              "    </tr>\n",
              "    <tr>\n",
              "      <th>1</th>\n",
              "      <td>0</td>\n",
              "      <td>21.0</td>\n",
              "      <td>1.52</td>\n",
              "      <td>56.0</td>\n",
              "      <td>1</td>\n",
              "      <td>0</td>\n",
              "      <td>3.0</td>\n",
              "      <td>3.0</td>\n",
              "      <td>1</td>\n",
              "      <td>1</td>\n",
              "      <td>3.0</td>\n",
              "      <td>1</td>\n",
              "      <td>3.0</td>\n",
              "      <td>0.0</td>\n",
              "      <td>1</td>\n",
              "      <td>Public_Transportation</td>\n",
              "      <td>Not Obese</td>\n",
              "      <td>24.238227</td>\n",
              "    </tr>\n",
              "    <tr>\n",
              "      <th>2</th>\n",
              "      <td>1</td>\n",
              "      <td>23.0</td>\n",
              "      <td>1.80</td>\n",
              "      <td>77.0</td>\n",
              "      <td>1</td>\n",
              "      <td>0</td>\n",
              "      <td>2.0</td>\n",
              "      <td>3.0</td>\n",
              "      <td>1</td>\n",
              "      <td>0</td>\n",
              "      <td>2.0</td>\n",
              "      <td>0</td>\n",
              "      <td>2.0</td>\n",
              "      <td>1.0</td>\n",
              "      <td>2</td>\n",
              "      <td>Public_Transportation</td>\n",
              "      <td>Not Obese</td>\n",
              "      <td>23.765432</td>\n",
              "    </tr>\n",
              "    <tr>\n",
              "      <th>3</th>\n",
              "      <td>1</td>\n",
              "      <td>27.0</td>\n",
              "      <td>1.80</td>\n",
              "      <td>87.0</td>\n",
              "      <td>0</td>\n",
              "      <td>0</td>\n",
              "      <td>3.0</td>\n",
              "      <td>3.0</td>\n",
              "      <td>1</td>\n",
              "      <td>0</td>\n",
              "      <td>2.0</td>\n",
              "      <td>0</td>\n",
              "      <td>2.0</td>\n",
              "      <td>0.0</td>\n",
              "      <td>2</td>\n",
              "      <td>Walking</td>\n",
              "      <td>Not Obese</td>\n",
              "      <td>26.851852</td>\n",
              "    </tr>\n",
              "    <tr>\n",
              "      <th>4</th>\n",
              "      <td>1</td>\n",
              "      <td>22.0</td>\n",
              "      <td>1.78</td>\n",
              "      <td>89.8</td>\n",
              "      <td>0</td>\n",
              "      <td>0</td>\n",
              "      <td>2.0</td>\n",
              "      <td>1.0</td>\n",
              "      <td>1</td>\n",
              "      <td>0</td>\n",
              "      <td>2.0</td>\n",
              "      <td>0</td>\n",
              "      <td>0.0</td>\n",
              "      <td>0.0</td>\n",
              "      <td>1</td>\n",
              "      <td>Public_Transportation</td>\n",
              "      <td>Not Obese</td>\n",
              "      <td>28.342381</td>\n",
              "    </tr>\n",
              "  </tbody>\n",
              "</table>\n",
              "</div>"
            ],
            "text/plain": [
              "   Gender   Age  Height  ...                 MTRANS  NObeyesdad        BMI\n",
              "0       0  21.0    1.62  ...  Public_Transportation   Not Obese  24.386526\n",
              "1       0  21.0    1.52  ...  Public_Transportation   Not Obese  24.238227\n",
              "2       1  23.0    1.80  ...  Public_Transportation   Not Obese  23.765432\n",
              "3       1  27.0    1.80  ...                Walking   Not Obese  26.851852\n",
              "4       1  22.0    1.78  ...  Public_Transportation   Not Obese  28.342381\n",
              "\n",
              "[5 rows x 18 columns]"
            ]
          },
          "metadata": {},
          "execution_count": 846
        }
      ]
    },
    {
      "cell_type": "code",
      "metadata": {
        "colab": {
          "base_uri": "https://localhost:8080/",
          "height": 332
        },
        "id": "ARIbwJ1sfQgN",
        "outputId": "482118fb-0b15-450f-8d1d-f819e94517b8"
      },
      "source": [
        "#creating new box plot for changed variable 'NObeyesdad\n",
        "ax=sns.boxplot(y='BMI', x='NObeyesdad', data=obesity, palette=\"Set3\", order=['Not Obese','Obese'])\n",
        "ax.set_title('Obesity Categories')\n",
        "ax.set_ylabel('BMI')\n",
        "ax.set_xticklabels(rotation=45, horizontalalignment='right', labels=['Not Obese','Obese'])\n",
        "plt.show();"
      ],
      "id": "ARIbwJ1sfQgN",
      "execution_count": 847,
      "outputs": [
        {
          "output_type": "display_data",
          "data": {
            "image/png": "[encoded data removed]",
            "text/plain": [
              "<Figure size 432x288 with 1 Axes>"
            ]
          },
          "metadata": {
            "needs_background": "light"
          }
        }
      ]
    },
    {
      "cell_type": "markdown",
      "metadata": {
        "id": "_Y-WoXQXgan1"
      },
      "source": [
        "'Not Obese' is slightly left skewed and 'Obese' is normally distributed.  No outliers."
      ],
      "id": "_Y-WoXQXgan1"
    },
    {
      "cell_type": "code",
      "metadata": {
        "id": "Gc7aLTn0g5O3",
        "colab": {
          "base_uri": "https://localhost:8080/",
          "height": 112
        },
        "outputId": "35da15d3-ae37-4ec9-b8bc-52b72fc17000"
      },
      "source": [
        "##Counting records by bmi category to compare male and female categories\n",
        "bmi_cat_count = obesity.groupby(['NObeyesdad']).size().reset_index(name='Count')\n",
        "bmi_cat_count\n"
      ],
      "id": "Gc7aLTn0g5O3",
      "execution_count": 848,
      "outputs": [
        {
          "output_type": "execute_result",
          "data": {
            "text/html": [
              "<div>\n",
              "<style scoped>\n",
              "    .dataframe tbody tr th:only-of-type {\n",
              "        vertical-align: middle;\n",
              "    }\n",
              "\n",
              "    .dataframe tbody tr th {\n",
              "        vertical-align: top;\n",
              "    }\n",
              "\n",
              "    .dataframe thead th {\n",
              "        text-align: right;\n",
              "    }\n",
              "</style>\n",
              "<table border=\"1\" class=\"dataframe\">\n",
              "  <thead>\n",
              "    <tr style=\"text-align: right;\">\n",
              "      <th></th>\n",
              "      <th>NObeyesdad</th>\n",
              "      <th>Count</th>\n",
              "    </tr>\n",
              "  </thead>\n",
              "  <tbody>\n",
              "    <tr>\n",
              "      <th>0</th>\n",
              "      <td>Not Obese</td>\n",
              "      <td>1139</td>\n",
              "    </tr>\n",
              "    <tr>\n",
              "      <th>1</th>\n",
              "      <td>Obese</td>\n",
              "      <td>972</td>\n",
              "    </tr>\n",
              "  </tbody>\n",
              "</table>\n",
              "</div>"
            ],
            "text/plain": [
              "  NObeyesdad  Count\n",
              "0  Not Obese   1139\n",
              "1      Obese    972"
            ]
          },
          "metadata": {},
          "execution_count": 848
        }
      ]
    },
    {
      "cell_type": "markdown",
      "metadata": {
        "id": "KGvlQKGS3xlT"
      },
      "source": [
        "##Mode C:  OVR - No Weight"
      ],
      "id": "KGvlQKGS3xlT"
    },
    {
      "cell_type": "code",
      "metadata": {
        "colab": {
          "base_uri": "https://localhost:8080/",
          "height": 206
        },
        "id": "ID4O1q1khWtQ",
        "outputId": "d72ccdb1-55b8-403c-ff1c-8df00b1412fc"
      },
      "source": [
        "# adding to dict file if obese or not obese   \n",
        "obese = {'Not Obese': 0,'Obese': 1}\n",
        "  \n",
        "# traversing through dataframe\n",
        "# nobeyesdad column and writing\n",
        "# values where key matches\n",
        "obesity.NObeyesdad = [obese[item] for item in obesity.NObeyesdad]\n",
        "obesity.head()"
      ],
      "id": "ID4O1q1khWtQ",
      "execution_count": 849,
      "outputs": [
        {
          "output_type": "execute_result",
          "data": {
            "text/html": [
              "<div>\n",
              "<style scoped>\n",
              "    .dataframe tbody tr th:only-of-type {\n",
              "        vertical-align: middle;\n",
              "    }\n",
              "\n",
              "    .dataframe tbody tr th {\n",
              "        vertical-align: top;\n",
              "    }\n",
              "\n",
              "    .dataframe thead th {\n",
              "        text-align: right;\n",
              "    }\n",
              "</style>\n",
              "<table border=\"1\" class=\"dataframe\">\n",
              "  <thead>\n",
              "    <tr style=\"text-align: right;\">\n",
              "      <th></th>\n",
              "      <th>Gender</th>\n",
              "      <th>Age</th>\n",
              "      <th>Height</th>\n",
              "      <th>Weight</th>\n",
              "      <th>Family</th>\n",
              "      <th>FAVC</th>\n",
              "      <th>FCVC</th>\n",
              "      <th>NCP</th>\n",
              "      <th>CAEC</th>\n",
              "      <th>SMOKE</th>\n",
              "      <th>CH2O</th>\n",
              "      <th>SCC</th>\n",
              "      <th>FAF</th>\n",
              "      <th>TUE</th>\n",
              "      <th>CALC</th>\n",
              "      <th>MTRANS</th>\n",
              "      <th>NObeyesdad</th>\n",
              "      <th>BMI</th>\n",
              "    </tr>\n",
              "  </thead>\n",
              "  <tbody>\n",
              "    <tr>\n",
              "      <th>0</th>\n",
              "      <td>0</td>\n",
              "      <td>21.0</td>\n",
              "      <td>1.62</td>\n",
              "      <td>64.0</td>\n",
              "      <td>1</td>\n",
              "      <td>0</td>\n",
              "      <td>2.0</td>\n",
              "      <td>3.0</td>\n",
              "      <td>1</td>\n",
              "      <td>0</td>\n",
              "      <td>2.0</td>\n",
              "      <td>0</td>\n",
              "      <td>0.0</td>\n",
              "      <td>1.0</td>\n",
              "      <td>0</td>\n",
              "      <td>Public_Transportation</td>\n",
              "      <td>0</td>\n",
              "      <td>24.386526</td>\n",
              "    </tr>\n",
              "    <tr>\n",
              "      <th>1</th>\n",
              "      <td>0</td>\n",
              "      <td>21.0</td>\n",
              "      <td>1.52</td>\n",
              "      <td>56.0</td>\n",
              "      <td>1</td>\n",
              "      <td>0</td>\n",
              "      <td>3.0</td>\n",
              "      <td>3.0</td>\n",
              "      <td>1</td>\n",
              "      <td>1</td>\n",
              "      <td>3.0</td>\n",
              "      <td>1</td>\n",
              "      <td>3.0</td>\n",
              "      <td>0.0</td>\n",
              "      <td>1</td>\n",
              "      <td>Public_Transportation</td>\n",
              "      <td>0</td>\n",
              "      <td>24.238227</td>\n",
              "    </tr>\n",
              "    <tr>\n",
              "      <th>2</th>\n",
              "      <td>1</td>\n",
              "      <td>23.0</td>\n",
              "      <td>1.80</td>\n",
              "      <td>77.0</td>\n",
              "      <td>1</td>\n",
              "      <td>0</td>\n",
              "      <td>2.0</td>\n",
              "      <td>3.0</td>\n",
              "      <td>1</td>\n",
              "      <td>0</td>\n",
              "      <td>2.0</td>\n",
              "      <td>0</td>\n",
              "      <td>2.0</td>\n",
              "      <td>1.0</td>\n",
              "      <td>2</td>\n",
              "      <td>Public_Transportation</td>\n",
              "      <td>0</td>\n",
              "      <td>23.765432</td>\n",
              "    </tr>\n",
              "    <tr>\n",
              "      <th>3</th>\n",
              "      <td>1</td>\n",
              "      <td>27.0</td>\n",
              "      <td>1.80</td>\n",
              "      <td>87.0</td>\n",
              "      <td>0</td>\n",
              "      <td>0</td>\n",
              "      <td>3.0</td>\n",
              "      <td>3.0</td>\n",
              "      <td>1</td>\n",
              "      <td>0</td>\n",
              "      <td>2.0</td>\n",
              "      <td>0</td>\n",
              "      <td>2.0</td>\n",
              "      <td>0.0</td>\n",
              "      <td>2</td>\n",
              "      <td>Walking</td>\n",
              "      <td>0</td>\n",
              "      <td>26.851852</td>\n",
              "    </tr>\n",
              "    <tr>\n",
              "      <th>4</th>\n",
              "      <td>1</td>\n",
              "      <td>22.0</td>\n",
              "      <td>1.78</td>\n",
              "      <td>89.8</td>\n",
              "      <td>0</td>\n",
              "      <td>0</td>\n",
              "      <td>2.0</td>\n",
              "      <td>1.0</td>\n",
              "      <td>1</td>\n",
              "      <td>0</td>\n",
              "      <td>2.0</td>\n",
              "      <td>0</td>\n",
              "      <td>0.0</td>\n",
              "      <td>0.0</td>\n",
              "      <td>1</td>\n",
              "      <td>Public_Transportation</td>\n",
              "      <td>0</td>\n",
              "      <td>28.342381</td>\n",
              "    </tr>\n",
              "  </tbody>\n",
              "</table>\n",
              "</div>"
            ],
            "text/plain": [
              "   Gender   Age  Height  ...                 MTRANS  NObeyesdad        BMI\n",
              "0       0  21.0    1.62  ...  Public_Transportation           0  24.386526\n",
              "1       0  21.0    1.52  ...  Public_Transportation           0  24.238227\n",
              "2       1  23.0    1.80  ...  Public_Transportation           0  23.765432\n",
              "3       1  27.0    1.80  ...                Walking           0  26.851852\n",
              "4       1  22.0    1.78  ...  Public_Transportation           0  28.342381\n",
              "\n",
              "[5 rows x 18 columns]"
            ]
          },
          "metadata": {},
          "execution_count": 849
        }
      ]
    },
    {
      "cell_type": "code",
      "metadata": {
        "id": "WGd9lbq4ODiU"
      },
      "source": [
        "#split dataset into feature (independent variables) and target (dependent) variables\n",
        "feature_cols = ['Age', 'Height', 'Family','FAVC','CAEC','SMOKE', 'FAF', 'CALC', 'FCVC', 'NCP', 'Gender',\n",
        "                'CH2O', 'SCC', 'TUE']\n",
        "X = obesity[feature_cols] # Features\n",
        "y = obesity.NObeyesdad # Target variable"
      ],
      "id": "WGd9lbq4ODiU",
      "execution_count": 850,
      "outputs": []
    },
    {
      "cell_type": "code",
      "metadata": {
        "colab": {
          "base_uri": "https://localhost:8080/",
          "height": 206
        },
        "id": "x087VwvfHZ7Y",
        "outputId": "cbb43b5a-12fa-4416-ac90-9b0cd2945ff2"
      },
      "source": [
        "X.head()"
      ],
      "id": "x087VwvfHZ7Y",
      "execution_count": 851,
      "outputs": [
        {
          "output_type": "execute_result",
          "data": {
            "text/html": [
              "<div>\n",
              "<style scoped>\n",
              "    .dataframe tbody tr th:only-of-type {\n",
              "        vertical-align: middle;\n",
              "    }\n",
              "\n",
              "    .dataframe tbody tr th {\n",
              "        vertical-align: top;\n",
              "    }\n",
              "\n",
              "    .dataframe thead th {\n",
              "        text-align: right;\n",
              "    }\n",
              "</style>\n",
              "<table border=\"1\" class=\"dataframe\">\n",
              "  <thead>\n",
              "    <tr style=\"text-align: right;\">\n",
              "      <th></th>\n",
              "      <th>Age</th>\n",
              "      <th>Height</th>\n",
              "      <th>Family</th>\n",
              "      <th>FAVC</th>\n",
              "      <th>CAEC</th>\n",
              "      <th>SMOKE</th>\n",
              "      <th>FAF</th>\n",
              "      <th>CALC</th>\n",
              "      <th>FCVC</th>\n",
              "      <th>NCP</th>\n",
              "      <th>Gender</th>\n",
              "      <th>CH2O</th>\n",
              "      <th>SCC</th>\n",
              "      <th>TUE</th>\n",
              "    </tr>\n",
              "  </thead>\n",
              "  <tbody>\n",
              "    <tr>\n",
              "      <th>0</th>\n",
              "      <td>21.0</td>\n",
              "      <td>1.62</td>\n",
              "      <td>1</td>\n",
              "      <td>0</td>\n",
              "      <td>1</td>\n",
              "      <td>0</td>\n",
              "      <td>0.0</td>\n",
              "      <td>0</td>\n",
              "      <td>2.0</td>\n",
              "      <td>3.0</td>\n",
              "      <td>0</td>\n",
              "      <td>2.0</td>\n",
              "      <td>0</td>\n",
              "      <td>1.0</td>\n",
              "    </tr>\n",
              "    <tr>\n",
              "      <th>1</th>\n",
              "      <td>21.0</td>\n",
              "      <td>1.52</td>\n",
              "      <td>1</td>\n",
              "      <td>0</td>\n",
              "      <td>1</td>\n",
              "      <td>1</td>\n",
              "      <td>3.0</td>\n",
              "      <td>1</td>\n",
              "      <td>3.0</td>\n",
              "      <td>3.0</td>\n",
              "      <td>0</td>\n",
              "      <td>3.0</td>\n",
              "      <td>1</td>\n",
              "      <td>0.0</td>\n",
              "    </tr>\n",
              "    <tr>\n",
              "      <th>2</th>\n",
              "      <td>23.0</td>\n",
              "      <td>1.80</td>\n",
              "      <td>1</td>\n",
              "      <td>0</td>\n",
              "      <td>1</td>\n",
              "      <td>0</td>\n",
              "      <td>2.0</td>\n",
              "      <td>2</td>\n",
              "      <td>2.0</td>\n",
              "      <td>3.0</td>\n",
              "      <td>1</td>\n",
              "      <td>2.0</td>\n",
              "      <td>0</td>\n",
              "      <td>1.0</td>\n",
              "    </tr>\n",
              "    <tr>\n",
              "      <th>3</th>\n",
              "      <td>27.0</td>\n",
              "      <td>1.80</td>\n",
              "      <td>0</td>\n",
              "      <td>0</td>\n",
              "      <td>1</td>\n",
              "      <td>0</td>\n",
              "      <td>2.0</td>\n",
              "      <td>2</td>\n",
              "      <td>3.0</td>\n",
              "      <td>3.0</td>\n",
              "      <td>1</td>\n",
              "      <td>2.0</td>\n",
              "      <td>0</td>\n",
              "      <td>0.0</td>\n",
              "    </tr>\n",
              "    <tr>\n",
              "      <th>4</th>\n",
              "      <td>22.0</td>\n",
              "      <td>1.78</td>\n",
              "      <td>0</td>\n",
              "      <td>0</td>\n",
              "      <td>1</td>\n",
              "      <td>0</td>\n",
              "      <td>0.0</td>\n",
              "      <td>1</td>\n",
              "      <td>2.0</td>\n",
              "      <td>1.0</td>\n",
              "      <td>1</td>\n",
              "      <td>2.0</td>\n",
              "      <td>0</td>\n",
              "      <td>0.0</td>\n",
              "    </tr>\n",
              "  </tbody>\n",
              "</table>\n",
              "</div>"
            ],
            "text/plain": [
              "    Age  Height  Family  FAVC  CAEC  SMOKE  ...  FCVC  NCP  Gender  CH2O  SCC  TUE\n",
              "0  21.0    1.62       1     0     1      0  ...   2.0  3.0       0   2.0    0  1.0\n",
              "1  21.0    1.52       1     0     1      1  ...   3.0  3.0       0   3.0    1  0.0\n",
              "2  23.0    1.80       1     0     1      0  ...   2.0  3.0       1   2.0    0  1.0\n",
              "3  27.0    1.80       0     0     1      0  ...   3.0  3.0       1   2.0    0  0.0\n",
              "4  22.0    1.78       0     0     1      0  ...   2.0  1.0       1   2.0    0  0.0\n",
              "\n",
              "[5 rows x 14 columns]"
            ]
          },
          "metadata": {},
          "execution_count": 851
        }
      ]
    },
    {
      "cell_type": "code",
      "metadata": {
        "id": "IeUbDHiJXWbO"
      },
      "source": [
        "#split X and y into training and testing sets\n",
        "#dataset broken into two parts, 75% will be used for model training and 25% for model testing\n",
        "from sklearn.model_selection import train_test_split\n",
        "X_train,X_test,y_train,y_test=train_test_split(X,y,test_size=0.25,random_state=0)"
      ],
      "id": "IeUbDHiJXWbO",
      "execution_count": 852,
      "outputs": []
    },
    {
      "cell_type": "code",
      "metadata": {
        "id": "ym_Irck2aCl_"
      },
      "source": [
        "# import the class\n",
        "from sklearn.linear_model import LogisticRegression\n",
        "\n",
        "# instantiate the model (using the default parameters)\n",
        "logreg = LogisticRegression(multi_class='ovr', solver='lbfgs')\n",
        "\n",
        "# fit the model with data\n",
        "logreg.fit(X_train,y_train)\n",
        "\n",
        "# predict\n",
        "y_pred=logreg.predict(X_test)"
      ],
      "id": "ym_Irck2aCl_",
      "execution_count": 853,
      "outputs": []
    },
    {
      "cell_type": "markdown",
      "metadata": {
        "id": "w8dI3K4tSx3c"
      },
      "source": [
        "The multinomial logistic regression model will be fit using (OVR) cross-entropy (measuring the difference between two probability distributions) loss and will predict the integer value for each integer encoded class label.\n",
        "\n",
        "With OVR parameter estimates are the odds ratio for being in the modeled class vs in other classes with a change in unit of that parameter.\n",
        "\n",
        "Source (https://etr359.medium.com/multi-class-classification-in-python-691821655636 [link text](https://))"
      ],
      "id": "w8dI3K4tSx3c"
    },
    {
      "cell_type": "code",
      "metadata": {
        "colab": {
          "base_uri": "https://localhost:8080/"
        },
        "id": "SDXB-rv8HmER",
        "outputId": "d083d9f7-d41d-4b8a-a9ce-54bff97e9ff9"
      },
      "source": [
        "print('Classes', logreg.classes_)\n",
        "print('Intercept',logreg.intercept_)\n",
        "print(\"Coefficients\", logreg.coef_ )"
      ],
      "id": "SDXB-rv8HmER",
      "execution_count": 854,
      "outputs": [
        {
          "output_type": "stream",
          "name": "stdout",
          "text": [
            "Classes [0 1]\n",
            "Intercept [-8.18906232]\n",
            "Coefficients [[ 0.03451902  1.25369977  2.98954415  2.1871363  -1.31663813  1.3581021\n",
            "  -0.40121632  0.09412367  0.83945988 -0.00392512 -0.13332498  0.1690373\n",
            "  -2.06096245 -0.24047414]]\n"
          ]
        }
      ]
    },
    {
      "cell_type": "markdown",
      "metadata": {
        "id": "9aijpXDtP9gN"
      },
      "source": [
        "Intercept:  the expected mean of each categorical variable when all x is zero.\n",
        "\n",
        "Coefficient:  the size and direction of the relationship between a predictor and the response variable. "
      ],
      "id": "9aijpXDtP9gN"
    },
    {
      "cell_type": "code",
      "metadata": {
        "colab": {
          "base_uri": "https://localhost:8080/"
        },
        "id": "nShic4UsH5gD",
        "outputId": "0378af10-eb8c-4555-fd01-765f4fc21c4e"
      },
      "source": [
        "print(\"Accuracy\", logreg.score(X_test, y_test))\n",
        "print(classification_report(y_test, logreg.predict(X_test)))"
      ],
      "id": "nShic4UsH5gD",
      "execution_count": 855,
      "outputs": [
        {
          "output_type": "stream",
          "name": "stdout",
          "text": [
            "Accuracy 0.759469696969697\n",
            "              precision    recall  f1-score   support\n",
            "\n",
            "           0       0.82      0.70      0.76       281\n",
            "           1       0.71      0.83      0.76       247\n",
            "\n",
            "    accuracy                           0.76       528\n",
            "   macro avg       0.77      0.76      0.76       528\n",
            "weighted avg       0.77      0.76      0.76       528\n",
            "\n"
          ]
        }
      ]
    },
    {
      "cell_type": "markdown",
      "metadata": {
        "id": "IFG3by2CNaPb"
      },
      "source": [
        "Accuracy:  of the total number of inputs 75.76% were predicted accurantely.\n"
      ],
      "id": "IFG3by2CNaPb"
    },
    {
      "cell_type": "code",
      "metadata": {
        "colab": {
          "base_uri": "https://localhost:8080/"
        },
        "id": "aktLT1tqaEB5",
        "outputId": "a10cadbb-842c-42b7-fd0c-e8c1cb580d47"
      },
      "source": [
        "# import the metrics class\n",
        "from sklearn import metrics\n",
        "cnf_matrix = metrics.confusion_matrix(y_test, y_pred)\n",
        "cnf_matrix"
      ],
      "id": "aktLT1tqaEB5",
      "execution_count": 856,
      "outputs": [
        {
          "output_type": "execute_result",
          "data": {
            "text/plain": [
              "array([[196,  85],\n",
              "       [ 42, 205]])"
            ]
          },
          "metadata": {},
          "execution_count": 856
        }
      ]
    },
    {
      "cell_type": "code",
      "metadata": {
        "colab": {
          "base_uri": "https://localhost:8080/",
          "height": 325
        },
        "id": "0TauX8hMfXtK",
        "outputId": "42d9a92d-d1e7-45a4-a8e3-23a17231544e"
      },
      "source": [
        "#name of classes\n",
        "%matplotlib inline\n",
        "class_names=['Not Obese', 'Obese']\n",
        "fig, ax = plt.subplots()\n",
        "tick_marks = np.arange(len(class_names))\n",
        "#heatmap\n",
        "sns.heatmap(pd.DataFrame(cnf_matrix), annot=True, cmap=\"PuBu\" ,fmt='g')\n",
        "ax.xaxis.set_label_position(\"top\")\n",
        "plt.tight_layout()\n",
        "plt.title('Confusion matrix', y=1.1)\n",
        "plt.ylabel('Actual label')\n",
        "plt.xlabel('Predicted label')\n",
        "ax.xaxis.set_ticklabels(['Not Obese', 'Obese'])\n",
        "ax.yaxis.set_ticklabels(['Not Obese', 'Obese']);"
      ],
      "id": "0TauX8hMfXtK",
      "execution_count": 857,
      "outputs": [
        {
          "output_type": "display_data",
          "data": {
            "image/png": "[encoded data removed]",
            "text/plain": [
              "<Figure size 432x288 with 2 Axes>"
            ]
          },
          "metadata": {
            "needs_background": "light"
          }
        }
      ]
    },
    {
      "cell_type": "code",
      "metadata": {
        "colab": {
          "base_uri": "https://localhost:8080/"
        },
        "id": "6OpIi3oYLN1I",
        "outputId": "41d4b5fc-b0d4-49ce-ea96-24ee57cc2571"
      },
      "source": [
        "print(\"Accuracy:\", accuracy_score(y_test, y_pred))\n",
        "print(\"Precision:\", precision_score(y_test, y_pred, average='weighted'))\n",
        "print(\"Recall:\", recall_score(y_test, y_pred, average= 'weighted'))"
      ],
      "id": "6OpIi3oYLN1I",
      "execution_count": 858,
      "outputs": [
        {
          "output_type": "stream",
          "name": "stdout",
          "text": [
            "Accuracy: 0.759469696969697\n",
            "Precision: 0.768968206404819\n",
            "Recall: 0.759469696969697\n"
          ]
        }
      ]
    },
    {
      "cell_type": "markdown",
      "metadata": {
        "id": "nS7jVrAYOJ22"
      },
      "source": [
        "Precision:  Model correctly predicted 76.9% positive predictions of input\n",
        "\n",
        "Recall:  Model’s predictive accuracy for the positive class is 75.75%\n",
        "\n",
        "\n",
        "Rebuilding Model with Weight added."
      ],
      "id": "nS7jVrAYOJ22"
    },
    {
      "cell_type": "markdown",
      "metadata": {
        "id": "YaspMD4W3oHq"
      },
      "source": [
        "##Model D:  OVR - With Weight"
      ],
      "id": "YaspMD4W3oHq"
    },
    {
      "cell_type": "code",
      "metadata": {
        "id": "dG5MJxAwHOra"
      },
      "source": [
        "#split dataset into feature (independent variables) and target (dependent) variables\n",
        "feature_cols = ['Weight','Age', 'Height', 'Family','FAVC','CAEC','SMOKE', 'FAF', 'CALC', 'FCVC', 'NCP', 'Gender',\n",
        "                'CH2O', 'SCC', 'TUE']\n",
        "X = obesity[feature_cols] # Features\n",
        "y = obesity.NObeyesdad # Target variable"
      ],
      "id": "dG5MJxAwHOra",
      "execution_count": 859,
      "outputs": []
    },
    {
      "cell_type": "code",
      "metadata": {
        "colab": {
          "base_uri": "https://localhost:8080/",
          "height": 206
        },
        "id": "681DpwiTHelG",
        "outputId": "9c8defde-34e0-4356-dbab-cfd5d2c3cfbb"
      },
      "source": [
        "X.head()"
      ],
      "id": "681DpwiTHelG",
      "execution_count": 860,
      "outputs": [
        {
          "output_type": "execute_result",
          "data": {
            "text/html": [
              "<div>\n",
              "<style scoped>\n",
              "    .dataframe tbody tr th:only-of-type {\n",
              "        vertical-align: middle;\n",
              "    }\n",
              "\n",
              "    .dataframe tbody tr th {\n",
              "        vertical-align: top;\n",
              "    }\n",
              "\n",
              "    .dataframe thead th {\n",
              "        text-align: right;\n",
              "    }\n",
              "</style>\n",
              "<table border=\"1\" class=\"dataframe\">\n",
              "  <thead>\n",
              "    <tr style=\"text-align: right;\">\n",
              "      <th></th>\n",
              "      <th>Weight</th>\n",
              "      <th>Age</th>\n",
              "      <th>Height</th>\n",
              "      <th>Family</th>\n",
              "      <th>FAVC</th>\n",
              "      <th>CAEC</th>\n",
              "      <th>SMOKE</th>\n",
              "      <th>FAF</th>\n",
              "      <th>CALC</th>\n",
              "      <th>FCVC</th>\n",
              "      <th>NCP</th>\n",
              "      <th>Gender</th>\n",
              "      <th>CH2O</th>\n",
              "      <th>SCC</th>\n",
              "      <th>TUE</th>\n",
              "    </tr>\n",
              "  </thead>\n",
              "  <tbody>\n",
              "    <tr>\n",
              "      <th>0</th>\n",
              "      <td>64.0</td>\n",
              "      <td>21.0</td>\n",
              "      <td>1.62</td>\n",
              "      <td>1</td>\n",
              "      <td>0</td>\n",
              "      <td>1</td>\n",
              "      <td>0</td>\n",
              "      <td>0.0</td>\n",
              "      <td>0</td>\n",
              "      <td>2.0</td>\n",
              "      <td>3.0</td>\n",
              "      <td>0</td>\n",
              "      <td>2.0</td>\n",
              "      <td>0</td>\n",
              "      <td>1.0</td>\n",
              "    </tr>\n",
              "    <tr>\n",
              "      <th>1</th>\n",
              "      <td>56.0</td>\n",
              "      <td>21.0</td>\n",
              "      <td>1.52</td>\n",
              "      <td>1</td>\n",
              "      <td>0</td>\n",
              "      <td>1</td>\n",
              "      <td>1</td>\n",
              "      <td>3.0</td>\n",
              "      <td>1</td>\n",
              "      <td>3.0</td>\n",
              "      <td>3.0</td>\n",
              "      <td>0</td>\n",
              "      <td>3.0</td>\n",
              "      <td>1</td>\n",
              "      <td>0.0</td>\n",
              "    </tr>\n",
              "    <tr>\n",
              "      <th>2</th>\n",
              "      <td>77.0</td>\n",
              "      <td>23.0</td>\n",
              "      <td>1.80</td>\n",
              "      <td>1</td>\n",
              "      <td>0</td>\n",
              "      <td>1</td>\n",
              "      <td>0</td>\n",
              "      <td>2.0</td>\n",
              "      <td>2</td>\n",
              "      <td>2.0</td>\n",
              "      <td>3.0</td>\n",
              "      <td>1</td>\n",
              "      <td>2.0</td>\n",
              "      <td>0</td>\n",
              "      <td>1.0</td>\n",
              "    </tr>\n",
              "    <tr>\n",
              "      <th>3</th>\n",
              "      <td>87.0</td>\n",
              "      <td>27.0</td>\n",
              "      <td>1.80</td>\n",
              "      <td>0</td>\n",
              "      <td>0</td>\n",
              "      <td>1</td>\n",
              "      <td>0</td>\n",
              "      <td>2.0</td>\n",
              "      <td>2</td>\n",
              "      <td>3.0</td>\n",
              "      <td>3.0</td>\n",
              "      <td>1</td>\n",
              "      <td>2.0</td>\n",
              "      <td>0</td>\n",
              "      <td>0.0</td>\n",
              "    </tr>\n",
              "    <tr>\n",
              "      <th>4</th>\n",
              "      <td>89.8</td>\n",
              "      <td>22.0</td>\n",
              "      <td>1.78</td>\n",
              "      <td>0</td>\n",
              "      <td>0</td>\n",
              "      <td>1</td>\n",
              "      <td>0</td>\n",
              "      <td>0.0</td>\n",
              "      <td>1</td>\n",
              "      <td>2.0</td>\n",
              "      <td>1.0</td>\n",
              "      <td>1</td>\n",
              "      <td>2.0</td>\n",
              "      <td>0</td>\n",
              "      <td>0.0</td>\n",
              "    </tr>\n",
              "  </tbody>\n",
              "</table>\n",
              "</div>"
            ],
            "text/plain": [
              "   Weight   Age  Height  Family  FAVC  CAEC  ...  FCVC  NCP  Gender  CH2O  SCC  TUE\n",
              "0    64.0  21.0    1.62       1     0     1  ...   2.0  3.0       0   2.0    0  1.0\n",
              "1    56.0  21.0    1.52       1     0     1  ...   3.0  3.0       0   3.0    1  0.0\n",
              "2    77.0  23.0    1.80       1     0     1  ...   2.0  3.0       1   2.0    0  1.0\n",
              "3    87.0  27.0    1.80       0     0     1  ...   3.0  3.0       1   2.0    0  0.0\n",
              "4    89.8  22.0    1.78       0     0     1  ...   2.0  1.0       1   2.0    0  0.0\n",
              "\n",
              "[5 rows x 15 columns]"
            ]
          },
          "metadata": {},
          "execution_count": 860
        }
      ]
    },
    {
      "cell_type": "code",
      "metadata": {
        "id": "zfuJXjSYHelG"
      },
      "source": [
        "#split X and y into training and testing sets\n",
        "#dataset broken into two parts, 75% will be used for model training and 25% for model testing\n",
        "X_train,X_test,y_train,y_test=train_test_split(X,y,test_size=0.25,random_state=0)"
      ],
      "id": "zfuJXjSYHelG",
      "execution_count": 861,
      "outputs": []
    },
    {
      "cell_type": "code",
      "metadata": {
        "id": "SsRbZM0RHelG"
      },
      "source": [
        "# instantiate the model (using the default parameters)\n",
        "logreg = LogisticRegression(multi_class='ovr', solver='lbfgs')\n",
        "\n",
        "# fit the model with data\n",
        "logreg.fit(X_train,y_train)\n",
        "\n",
        "#\n",
        "y_pred=logreg.predict(X_test)"
      ],
      "id": "SsRbZM0RHelG",
      "execution_count": 862,
      "outputs": []
    },
    {
      "cell_type": "code",
      "metadata": {
        "colab": {
          "base_uri": "https://localhost:8080/"
        },
        "id": "V3IYbWTkHelJ",
        "outputId": "5ddd9344-e275-4272-b740-96baf962f1e3"
      },
      "source": [
        "print('Classes', logreg.classes_)\n",
        "print('Intercept',logreg.intercept_)\n",
        "print(\"Coefficients\", logreg.coef_ )"
      ],
      "id": "V3IYbWTkHelJ",
      "execution_count": 863,
      "outputs": [
        {
          "output_type": "stream",
          "name": "stdout",
          "text": [
            "Classes [0 1]\n",
            "Intercept [-5.38023761]\n",
            "Coefficients [[ 0.30783739 -0.02690949 -9.02713228 -0.16680384  0.13045935 -0.25395253\n",
            "   0.55816062 -0.09625886 -0.50038407 -0.93134551 -0.07070662 -3.03239228\n",
            "  -0.11379259 -0.88731211 -0.68834593]]\n"
          ]
        }
      ]
    },
    {
      "cell_type": "markdown",
      "metadata": {
        "id": "nrRhCrbBHelJ"
      },
      "source": [
        "Intercept went down by about -0.3.\n",
        "\n",
        "Most coefficients increased. "
      ],
      "id": "nrRhCrbBHelJ"
    },
    {
      "cell_type": "code",
      "metadata": {
        "colab": {
          "base_uri": "https://localhost:8080/"
        },
        "id": "Hn41HHkSHelJ",
        "outputId": "3fdd4876-f6c2-4888-cb82-f66b154219bc"
      },
      "source": [
        "print(\"Accuracy\", logreg.score(X_test, y_test))\n",
        "print(classification_report(y_test, logreg.predict(X_test)))"
      ],
      "id": "Hn41HHkSHelJ",
      "execution_count": 864,
      "outputs": [
        {
          "output_type": "stream",
          "name": "stdout",
          "text": [
            "Accuracy 0.9526515151515151\n",
            "              precision    recall  f1-score   support\n",
            "\n",
            "           0       0.95      0.96      0.96       281\n",
            "           1       0.95      0.94      0.95       247\n",
            "\n",
            "    accuracy                           0.95       528\n",
            "   macro avg       0.95      0.95      0.95       528\n",
            "weighted avg       0.95      0.95      0.95       528\n",
            "\n"
          ]
        }
      ]
    },
    {
      "cell_type": "markdown",
      "metadata": {
        "id": "0EV_IxcDHelJ"
      },
      "source": [
        "Accuracy increased to 95.27%.\n"
      ],
      "id": "0EV_IxcDHelJ"
    },
    {
      "cell_type": "code",
      "metadata": {
        "colab": {
          "base_uri": "https://localhost:8080/"
        },
        "id": "6RbZCi7dHelK",
        "outputId": "dbe53c2c-8081-4983-f280-89bf32a63781"
      },
      "source": [
        "# import the metrics class\n",
        "cnf_matrix = metrics.confusion_matrix(y_test, y_pred)\n",
        "cnf_matrix"
      ],
      "id": "6RbZCi7dHelK",
      "execution_count": 865,
      "outputs": [
        {
          "output_type": "execute_result",
          "data": {
            "text/plain": [
              "array([[270,  11],\n",
              "       [ 14, 233]])"
            ]
          },
          "metadata": {},
          "execution_count": 865
        }
      ]
    },
    {
      "cell_type": "code",
      "metadata": {
        "colab": {
          "base_uri": "https://localhost:8080/",
          "height": 320
        },
        "id": "SZN_O-lyHelK",
        "outputId": "397930e9-34bf-4bc0-8a54-74251f8c6575"
      },
      "source": [
        "#name of classes\n",
        "%matplotlib inline\n",
        "class_names=['Not Obese', 'Obese']\n",
        "fig, ax = plt.subplots()\n",
        "tick_marks = np.arange(len(class_names))\n",
        "#heatmap\n",
        "sns.heatmap(pd.DataFrame(cnf_matrix), annot=True, cmap=\"PuBu\" ,fmt='g')\n",
        "ax.xaxis.set_label_position(\"top\")\n",
        "plt.tight_layout()\n",
        "plt.title('Confusion matrix', y=1.1)\n",
        "plt.ylabel('Actual label')\n",
        "plt.xlabel('Predicted label')\n",
        "ax.xaxis.set_ticklabels(['Not Obese', 'Obese'])\n",
        "ax.yaxis.set_ticklabels(['Not Obese', 'Obese']);"
      ],
      "id": "SZN_O-lyHelK",
      "execution_count": 866,
      "outputs": [
        {
          "output_type": "display_data",
          "data": {
            "image/png": "[encoded data removed]",
            "text/plain": [
              "<Figure size 432x288 with 2 Axes>"
            ]
          },
          "metadata": {
            "needs_background": "light"
          }
        }
      ]
    },
    {
      "cell_type": "code",
      "metadata": {
        "colab": {
          "base_uri": "https://localhost:8080/"
        },
        "id": "kxSX83UlHelK",
        "outputId": "fa29dd51-4c12-40a3-cda7-2161fd281b51"
      },
      "source": [
        "print(\"Accuracy:\", accuracy_score(y_test, y_pred))\n",
        "print(\"Precision:\", precision_score(y_test, y_pred, average='weighted'))\n",
        "print(\"Recall:\", recall_score(y_test, y_pred, average= 'weighted'))"
      ],
      "id": "kxSX83UlHelK",
      "execution_count": 867,
      "outputs": [
        {
          "output_type": "stream",
          "name": "stdout",
          "text": [
            "Accuracy: 0.9526515151515151\n",
            "Precision: 0.9526754572392127\n",
            "Recall: 0.9526515151515151\n"
          ]
        }
      ]
    },
    {
      "cell_type": "markdown",
      "metadata": {
        "id": "6x0-vTS2OVA6"
      },
      "source": [
        "Precision increased to 95.27 % and recal to 95.27%.\n"
      ],
      "id": "6x0-vTS2OVA6"
    },
    {
      "cell_type": "markdown",
      "metadata": {
        "id": "3MDLyAPYUhOM"
      },
      "source": [
        "Running model again with multinomial 'multi-class', and weight taken back out.  Multinomial will compare each class label to all others one-on-one.\n",
        "\n",
        "##Model E:  Multimonial - No Weight"
      ],
      "id": "3MDLyAPYUhOM"
    },
    {
      "cell_type": "code",
      "metadata": {
        "id": "amdVLM_ruiJ6"
      },
      "source": [
        "#split dataset into feature (independent variables) and target (dependent) variables\n",
        "feature_cols = ['Age', 'Height', 'Family','FAVC','CAEC','SMOKE', 'FAF', 'CALC', 'FCVC', 'NCP', 'Gender',\n",
        "                'CH2O', 'SCC', 'TUE']\n",
        "X = obesity[feature_cols] # Features\n",
        "y = obesity.NObeyesdad # Target variable"
      ],
      "id": "amdVLM_ruiJ6",
      "execution_count": 868,
      "outputs": []
    },
    {
      "cell_type": "code",
      "metadata": {
        "colab": {
          "base_uri": "https://localhost:8080/",
          "height": 206
        },
        "id": "aklCf8lTuiJ7",
        "outputId": "5237b482-46e8-4d5f-bea9-31f1d2d97558"
      },
      "source": [
        "X.head()"
      ],
      "id": "aklCf8lTuiJ7",
      "execution_count": 869,
      "outputs": [
        {
          "output_type": "execute_result",
          "data": {
            "text/html": [
              "<div>\n",
              "<style scoped>\n",
              "    .dataframe tbody tr th:only-of-type {\n",
              "        vertical-align: middle;\n",
              "    }\n",
              "\n",
              "    .dataframe tbody tr th {\n",
              "        vertical-align: top;\n",
              "    }\n",
              "\n",
              "    .dataframe thead th {\n",
              "        text-align: right;\n",
              "    }\n",
              "</style>\n",
              "<table border=\"1\" class=\"dataframe\">\n",
              "  <thead>\n",
              "    <tr style=\"text-align: right;\">\n",
              "      <th></th>\n",
              "      <th>Age</th>\n",
              "      <th>Height</th>\n",
              "      <th>Family</th>\n",
              "      <th>FAVC</th>\n",
              "      <th>CAEC</th>\n",
              "      <th>SMOKE</th>\n",
              "      <th>FAF</th>\n",
              "      <th>CALC</th>\n",
              "      <th>FCVC</th>\n",
              "      <th>NCP</th>\n",
              "      <th>Gender</th>\n",
              "      <th>CH2O</th>\n",
              "      <th>SCC</th>\n",
              "      <th>TUE</th>\n",
              "    </tr>\n",
              "  </thead>\n",
              "  <tbody>\n",
              "    <tr>\n",
              "      <th>0</th>\n",
              "      <td>21.0</td>\n",
              "      <td>1.62</td>\n",
              "      <td>1</td>\n",
              "      <td>0</td>\n",
              "      <td>1</td>\n",
              "      <td>0</td>\n",
              "      <td>0.0</td>\n",
              "      <td>0</td>\n",
              "      <td>2.0</td>\n",
              "      <td>3.0</td>\n",
              "      <td>0</td>\n",
              "      <td>2.0</td>\n",
              "      <td>0</td>\n",
              "      <td>1.0</td>\n",
              "    </tr>\n",
              "    <tr>\n",
              "      <th>1</th>\n",
              "      <td>21.0</td>\n",
              "      <td>1.52</td>\n",
              "      <td>1</td>\n",
              "      <td>0</td>\n",
              "      <td>1</td>\n",
              "      <td>1</td>\n",
              "      <td>3.0</td>\n",
              "      <td>1</td>\n",
              "      <td>3.0</td>\n",
              "      <td>3.0</td>\n",
              "      <td>0</td>\n",
              "      <td>3.0</td>\n",
              "      <td>1</td>\n",
              "      <td>0.0</td>\n",
              "    </tr>\n",
              "    <tr>\n",
              "      <th>2</th>\n",
              "      <td>23.0</td>\n",
              "      <td>1.80</td>\n",
              "      <td>1</td>\n",
              "      <td>0</td>\n",
              "      <td>1</td>\n",
              "      <td>0</td>\n",
              "      <td>2.0</td>\n",
              "      <td>2</td>\n",
              "      <td>2.0</td>\n",
              "      <td>3.0</td>\n",
              "      <td>1</td>\n",
              "      <td>2.0</td>\n",
              "      <td>0</td>\n",
              "      <td>1.0</td>\n",
              "    </tr>\n",
              "    <tr>\n",
              "      <th>3</th>\n",
              "      <td>27.0</td>\n",
              "      <td>1.80</td>\n",
              "      <td>0</td>\n",
              "      <td>0</td>\n",
              "      <td>1</td>\n",
              "      <td>0</td>\n",
              "      <td>2.0</td>\n",
              "      <td>2</td>\n",
              "      <td>3.0</td>\n",
              "      <td>3.0</td>\n",
              "      <td>1</td>\n",
              "      <td>2.0</td>\n",
              "      <td>0</td>\n",
              "      <td>0.0</td>\n",
              "    </tr>\n",
              "    <tr>\n",
              "      <th>4</th>\n",
              "      <td>22.0</td>\n",
              "      <td>1.78</td>\n",
              "      <td>0</td>\n",
              "      <td>0</td>\n",
              "      <td>1</td>\n",
              "      <td>0</td>\n",
              "      <td>0.0</td>\n",
              "      <td>1</td>\n",
              "      <td>2.0</td>\n",
              "      <td>1.0</td>\n",
              "      <td>1</td>\n",
              "      <td>2.0</td>\n",
              "      <td>0</td>\n",
              "      <td>0.0</td>\n",
              "    </tr>\n",
              "  </tbody>\n",
              "</table>\n",
              "</div>"
            ],
            "text/plain": [
              "    Age  Height  Family  FAVC  CAEC  SMOKE  ...  FCVC  NCP  Gender  CH2O  SCC  TUE\n",
              "0  21.0    1.62       1     0     1      0  ...   2.0  3.0       0   2.0    0  1.0\n",
              "1  21.0    1.52       1     0     1      1  ...   3.0  3.0       0   3.0    1  0.0\n",
              "2  23.0    1.80       1     0     1      0  ...   2.0  3.0       1   2.0    0  1.0\n",
              "3  27.0    1.80       0     0     1      0  ...   3.0  3.0       1   2.0    0  0.0\n",
              "4  22.0    1.78       0     0     1      0  ...   2.0  1.0       1   2.0    0  0.0\n",
              "\n",
              "[5 rows x 14 columns]"
            ]
          },
          "metadata": {},
          "execution_count": 869
        }
      ]
    },
    {
      "cell_type": "code",
      "metadata": {
        "id": "YJwFvC6luiJ7"
      },
      "source": [
        "#split X and y into training and testing sets\n",
        "#dataset broken into two parts, 75% will be used for model training and 25% for model testing\n",
        "from sklearn.model_selection import train_test_split\n",
        "X_train,X_test,y_train,y_test=train_test_split(X,y,test_size=0.25,random_state=0)"
      ],
      "id": "YJwFvC6luiJ7",
      "execution_count": 870,
      "outputs": []
    },
    {
      "cell_type": "code",
      "metadata": {
        "id": "wH6Rxf0gUeEm"
      },
      "source": [
        "# instantiate the model (using the default parameters)\n",
        "logreg = LogisticRegression(multi_class='multinomial',solver='lbfgs')\n",
        "\n",
        "# fit the model with data\n",
        "logreg.fit(X_train,y_train)\n",
        "\n",
        "#\n",
        "y_pred=logreg.predict(X_test)"
      ],
      "id": "wH6Rxf0gUeEm",
      "execution_count": 871,
      "outputs": []
    },
    {
      "cell_type": "code",
      "metadata": {
        "colab": {
          "base_uri": "https://localhost:8080/"
        },
        "id": "nJlh1vZKUeEm",
        "outputId": "d19d3202-1106-4a9c-e7bc-42d56abe6de7"
      },
      "source": [
        "print('Classes', logreg.classes_)\n",
        "print('Intercept',logreg.intercept_)\n",
        "print(\"Coefficients\", logreg.coef_ )"
      ],
      "id": "nJlh1vZKUeEm",
      "execution_count": 872,
      "outputs": [
        {
          "output_type": "stream",
          "name": "stdout",
          "text": [
            "Classes [0 1]\n",
            "Intercept [-2.63846649]\n",
            "Coefficients [[ 0.01266197 -0.1353965   1.55043337  1.190127   -0.57169821  0.64356791\n",
            "  -0.14569745  0.11038536  0.3562764  -0.02029473 -0.0446148   0.01749251\n",
            "  -1.10567629 -0.171637  ]]\n"
          ]
        }
      ]
    },
    {
      "cell_type": "code",
      "metadata": {
        "colab": {
          "base_uri": "https://localhost:8080/"
        },
        "id": "v2OElTUrUeEm",
        "outputId": "2f7a85a8-5f25-4660-8f7f-d4fdc9e7c74c"
      },
      "source": [
        "print(\"Accuracy\", logreg.score(X_test, y_test))\n",
        "print(classification_report(y_test, logreg.predict(X_test)))"
      ],
      "id": "v2OElTUrUeEm",
      "execution_count": 873,
      "outputs": [
        {
          "output_type": "stream",
          "name": "stdout",
          "text": [
            "Accuracy 0.7575757575757576\n",
            "              precision    recall  f1-score   support\n",
            "\n",
            "           0       0.83      0.69      0.75       281\n",
            "           1       0.70      0.84      0.76       247\n",
            "\n",
            "    accuracy                           0.76       528\n",
            "   macro avg       0.77      0.76      0.76       528\n",
            "weighted avg       0.77      0.76      0.76       528\n",
            "\n"
          ]
        }
      ]
    },
    {
      "cell_type": "markdown",
      "metadata": {
        "id": "xeSd9whEUeEm"
      },
      "source": [
        "Accuracy back down to 75.76%\n"
      ],
      "id": "xeSd9whEUeEm"
    },
    {
      "cell_type": "code",
      "metadata": {
        "colab": {
          "base_uri": "https://localhost:8080/"
        },
        "id": "KEdx8k9VUeEm",
        "outputId": "dc6239b9-00cd-467f-96b7-607770eab27a"
      },
      "source": [
        "# import the metrics class\n",
        "cnf_matrix = metrics.confusion_matrix(y_test, y_pred)\n",
        "cnf_matrix"
      ],
      "id": "KEdx8k9VUeEm",
      "execution_count": 874,
      "outputs": [
        {
          "output_type": "execute_result",
          "data": {
            "text/plain": [
              "array([[193,  88],\n",
              "       [ 40, 207]])"
            ]
          },
          "metadata": {},
          "execution_count": 874
        }
      ]
    },
    {
      "cell_type": "code",
      "metadata": {
        "colab": {
          "base_uri": "https://localhost:8080/",
          "height": 325
        },
        "id": "j8TDOWreUeEm",
        "outputId": "f50e3749-ddbc-4dbd-b708-aa095b48a0aa"
      },
      "source": [
        "#name of classes\n",
        "%matplotlib inline\n",
        "class_names=['Not Obese', 'Obese']\n",
        "fig, ax = plt.subplots()\n",
        "tick_marks = np.arange(len(class_names))\n",
        "#heatmap\n",
        "sns.heatmap(pd.DataFrame(cnf_matrix), annot=True, cmap=\"PuBu\" ,fmt='g')\n",
        "ax.xaxis.set_label_position(\"top\")\n",
        "plt.tight_layout()\n",
        "plt.title('Confusion matrix', y=1.1)\n",
        "plt.ylabel('Actual label')\n",
        "plt.xlabel('Predicted label')\n",
        "ax.xaxis.set_ticklabels(['Not Obese', 'Obese'])\n",
        "ax.yaxis.set_ticklabels(['Not Obese', 'Obese']);"
      ],
      "id": "j8TDOWreUeEm",
      "execution_count": 875,
      "outputs": [
        {
          "output_type": "display_data",
          "data": {
            "image/png": "[encoded data removed]",
            "text/plain": [
              "<Figure size 432x288 with 2 Axes>"
            ]
          },
          "metadata": {
            "needs_background": "light"
          }
        }
      ]
    },
    {
      "cell_type": "code",
      "metadata": {
        "colab": {
          "base_uri": "https://localhost:8080/"
        },
        "id": "HnDNQTTpUeEm",
        "outputId": "c456398c-18b2-4d68-d5f2-1da98aac58d8"
      },
      "source": [
        "print(\"Accuracy:\", accuracy_score(y_test, y_pred))\n",
        "print(\"Precision:\", precision_score(y_test, y_pred, average='weighted'))\n",
        "print(\"Recall:\", recall_score(y_test, y_pred, average= 'weighted'))"
      ],
      "id": "HnDNQTTpUeEm",
      "execution_count": 876,
      "outputs": [
        {
          "output_type": "stream",
          "name": "stdout",
          "text": [
            "Accuracy: 0.7575757575757576\n",
            "Precision: 0.7690876907578733\n",
            "Recall: 0.7575757575757576\n"
          ]
        }
      ]
    },
    {
      "cell_type": "markdown",
      "metadata": {
        "id": "lkbqXEDByyld"
      },
      "source": [
        "Running multinomial 'multi-class' model again with weight back in.\n",
        "\n",
        "##Model F:  Multinomial with Weight"
      ],
      "id": "lkbqXEDByyld"
    },
    {
      "cell_type": "code",
      "metadata": {
        "id": "jPFPKEpXzAjh"
      },
      "source": [
        "#split dataset into feature (independent variables) and target (dependent) variables\n",
        "feature_cols = ['Weight','Age', 'Height', 'Family','FAVC','CAEC','SMOKE', 'FAF', 'CALC', 'FCVC', 'NCP', 'Gender',\n",
        "                'CH2O', 'SCC', 'TUE']\n",
        "X = obesity[feature_cols] # Features\n",
        "y = obesity.NObeyesdad # Target variable"
      ],
      "id": "jPFPKEpXzAjh",
      "execution_count": 877,
      "outputs": []
    },
    {
      "cell_type": "code",
      "metadata": {
        "colab": {
          "base_uri": "https://localhost:8080/",
          "height": 206
        },
        "id": "Q5D-EZ38zAjh",
        "outputId": "ca273c88-c615-461e-e46b-76d22d9f0a19"
      },
      "source": [
        "X.head()"
      ],
      "id": "Q5D-EZ38zAjh",
      "execution_count": 878,
      "outputs": [
        {
          "output_type": "execute_result",
          "data": {
            "text/html": [
              "<div>\n",
              "<style scoped>\n",
              "    .dataframe tbody tr th:only-of-type {\n",
              "        vertical-align: middle;\n",
              "    }\n",
              "\n",
              "    .dataframe tbody tr th {\n",
              "        vertical-align: top;\n",
              "    }\n",
              "\n",
              "    .dataframe thead th {\n",
              "        text-align: right;\n",
              "    }\n",
              "</style>\n",
              "<table border=\"1\" class=\"dataframe\">\n",
              "  <thead>\n",
              "    <tr style=\"text-align: right;\">\n",
              "      <th></th>\n",
              "      <th>Weight</th>\n",
              "      <th>Age</th>\n",
              "      <th>Height</th>\n",
              "      <th>Family</th>\n",
              "      <th>FAVC</th>\n",
              "      <th>CAEC</th>\n",
              "      <th>SMOKE</th>\n",
              "      <th>FAF</th>\n",
              "      <th>CALC</th>\n",
              "      <th>FCVC</th>\n",
              "      <th>NCP</th>\n",
              "      <th>Gender</th>\n",
              "      <th>CH2O</th>\n",
              "      <th>SCC</th>\n",
              "      <th>TUE</th>\n",
              "    </tr>\n",
              "  </thead>\n",
              "  <tbody>\n",
              "    <tr>\n",
              "      <th>0</th>\n",
              "      <td>64.0</td>\n",
              "      <td>21.0</td>\n",
              "      <td>1.62</td>\n",
              "      <td>1</td>\n",
              "      <td>0</td>\n",
              "      <td>1</td>\n",
              "      <td>0</td>\n",
              "      <td>0.0</td>\n",
              "      <td>0</td>\n",
              "      <td>2.0</td>\n",
              "      <td>3.0</td>\n",
              "      <td>0</td>\n",
              "      <td>2.0</td>\n",
              "      <td>0</td>\n",
              "      <td>1.0</td>\n",
              "    </tr>\n",
              "    <tr>\n",
              "      <th>1</th>\n",
              "      <td>56.0</td>\n",
              "      <td>21.0</td>\n",
              "      <td>1.52</td>\n",
              "      <td>1</td>\n",
              "      <td>0</td>\n",
              "      <td>1</td>\n",
              "      <td>1</td>\n",
              "      <td>3.0</td>\n",
              "      <td>1</td>\n",
              "      <td>3.0</td>\n",
              "      <td>3.0</td>\n",
              "      <td>0</td>\n",
              "      <td>3.0</td>\n",
              "      <td>1</td>\n",
              "      <td>0.0</td>\n",
              "    </tr>\n",
              "    <tr>\n",
              "      <th>2</th>\n",
              "      <td>77.0</td>\n",
              "      <td>23.0</td>\n",
              "      <td>1.80</td>\n",
              "      <td>1</td>\n",
              "      <td>0</td>\n",
              "      <td>1</td>\n",
              "      <td>0</td>\n",
              "      <td>2.0</td>\n",
              "      <td>2</td>\n",
              "      <td>2.0</td>\n",
              "      <td>3.0</td>\n",
              "      <td>1</td>\n",
              "      <td>2.0</td>\n",
              "      <td>0</td>\n",
              "      <td>1.0</td>\n",
              "    </tr>\n",
              "    <tr>\n",
              "      <th>3</th>\n",
              "      <td>87.0</td>\n",
              "      <td>27.0</td>\n",
              "      <td>1.80</td>\n",
              "      <td>0</td>\n",
              "      <td>0</td>\n",
              "      <td>1</td>\n",
              "      <td>0</td>\n",
              "      <td>2.0</td>\n",
              "      <td>2</td>\n",
              "      <td>3.0</td>\n",
              "      <td>3.0</td>\n",
              "      <td>1</td>\n",
              "      <td>2.0</td>\n",
              "      <td>0</td>\n",
              "      <td>0.0</td>\n",
              "    </tr>\n",
              "    <tr>\n",
              "      <th>4</th>\n",
              "      <td>89.8</td>\n",
              "      <td>22.0</td>\n",
              "      <td>1.78</td>\n",
              "      <td>0</td>\n",
              "      <td>0</td>\n",
              "      <td>1</td>\n",
              "      <td>0</td>\n",
              "      <td>0.0</td>\n",
              "      <td>1</td>\n",
              "      <td>2.0</td>\n",
              "      <td>1.0</td>\n",
              "      <td>1</td>\n",
              "      <td>2.0</td>\n",
              "      <td>0</td>\n",
              "      <td>0.0</td>\n",
              "    </tr>\n",
              "  </tbody>\n",
              "</table>\n",
              "</div>"
            ],
            "text/plain": [
              "   Weight   Age  Height  Family  FAVC  CAEC  ...  FCVC  NCP  Gender  CH2O  SCC  TUE\n",
              "0    64.0  21.0    1.62       1     0     1  ...   2.0  3.0       0   2.0    0  1.0\n",
              "1    56.0  21.0    1.52       1     0     1  ...   3.0  3.0       0   3.0    1  0.0\n",
              "2    77.0  23.0    1.80       1     0     1  ...   2.0  3.0       1   2.0    0  1.0\n",
              "3    87.0  27.0    1.80       0     0     1  ...   3.0  3.0       1   2.0    0  0.0\n",
              "4    89.8  22.0    1.78       0     0     1  ...   2.0  1.0       1   2.0    0  0.0\n",
              "\n",
              "[5 rows x 15 columns]"
            ]
          },
          "metadata": {},
          "execution_count": 878
        }
      ]
    },
    {
      "cell_type": "code",
      "metadata": {
        "id": "wOMbSxBDzAjh"
      },
      "source": [
        "#split X and y into training and testing sets\n",
        "#dataset broken into two parts, 75% will be used for model training and 25% for model testing\n",
        "X_train,X_test,y_train,y_test=train_test_split(X,y,test_size=0.25,random_state=0)"
      ],
      "id": "wOMbSxBDzAjh",
      "execution_count": 879,
      "outputs": []
    },
    {
      "cell_type": "code",
      "metadata": {
        "id": "X0jS5yXazPbp"
      },
      "source": [
        "# instantiate the model (using the default parameters)\n",
        "logreg = LogisticRegression(multi_class='multinomial',solver='lbfgs')\n",
        "\n",
        "# fit the model with data\n",
        "logreg.fit(X_train,y_train)\n",
        "\n",
        "#\n",
        "y_pred=logreg.predict(X_test)"
      ],
      "id": "X0jS5yXazPbp",
      "execution_count": 880,
      "outputs": []
    },
    {
      "cell_type": "code",
      "metadata": {
        "colab": {
          "base_uri": "https://localhost:8080/"
        },
        "id": "yX7FcMFjzPbp",
        "outputId": "61d39ac3-b029-4487-c228-46bf7e7ec340"
      },
      "source": [
        "print('Classes', logreg.classes_)\n",
        "print('Intercept',logreg.intercept_)\n",
        "print(\"Coefficients\", logreg.coef_ )"
      ],
      "id": "yX7FcMFjzPbp",
      "execution_count": 881,
      "outputs": [
        {
          "output_type": "stream",
          "name": "stdout",
          "text": [
            "Classes [0 1]\n",
            "Intercept [-2.96802195]\n",
            "Coefficients [[ 0.18626527 -0.0156531  -5.75085851 -0.35317852 -0.13849365 -0.29430044\n",
            "   0.34699931  0.0924617  -0.03016864 -0.37039816  0.01075409 -1.9288951\n",
            "  -0.12369212 -0.61688243 -0.31100795]]\n"
          ]
        }
      ]
    },
    {
      "cell_type": "code",
      "metadata": {
        "colab": {
          "base_uri": "https://localhost:8080/"
        },
        "id": "AZqdDnxazPbp",
        "outputId": "55cd38d3-a97f-4c01-8baa-fb5f96c152c5"
      },
      "source": [
        "print(\"Accuracy\", logreg.score(X_test, y_test))\n",
        "print(classification_report(y_test, logreg.predict(X_test)))"
      ],
      "id": "AZqdDnxazPbp",
      "execution_count": 882,
      "outputs": [
        {
          "output_type": "stream",
          "name": "stdout",
          "text": [
            "Accuracy 0.9659090909090909\n",
            "              precision    recall  f1-score   support\n",
            "\n",
            "           0       0.97      0.96      0.97       281\n",
            "           1       0.96      0.97      0.96       247\n",
            "\n",
            "    accuracy                           0.97       528\n",
            "   macro avg       0.97      0.97      0.97       528\n",
            "weighted avg       0.97      0.97      0.97       528\n",
            "\n"
          ]
        }
      ]
    },
    {
      "cell_type": "code",
      "metadata": {
        "id": "l9muyLDY3GC_"
      },
      "source": [
        ""
      ],
      "id": "l9muyLDY3GC_",
      "execution_count": 882,
      "outputs": []
    },
    {
      "cell_type": "code",
      "metadata": {
        "colab": {
          "base_uri": "https://localhost:8080/"
        },
        "id": "_cC3NcOz3GQx",
        "outputId": "65f95a1a-4fd8-4f39-c652-2801be7f6908"
      },
      "source": [
        "# import the metrics class\n",
        "cnf_matrix = metrics.confusion_matrix(y_test, y_pred)\n",
        "cnf_matrix"
      ],
      "id": "_cC3NcOz3GQx",
      "execution_count": 883,
      "outputs": [
        {
          "output_type": "execute_result",
          "data": {
            "text/plain": [
              "array([[270,  11],\n",
              "       [  7, 240]])"
            ]
          },
          "metadata": {},
          "execution_count": 883
        }
      ]
    },
    {
      "cell_type": "code",
      "metadata": {
        "colab": {
          "base_uri": "https://localhost:8080/",
          "height": 320
        },
        "id": "xHii3wUn3GQy",
        "outputId": "b8181557-d91a-4fbf-e5f0-07f5e38760dd"
      },
      "source": [
        "#name of classes\n",
        "%matplotlib inline\n",
        "class_names=['Not Obese', 'Obese']\n",
        "fig, ax = plt.subplots()\n",
        "tick_marks = np.arange(len(class_names))\n",
        "#heatmap\n",
        "sns.heatmap(pd.DataFrame(cnf_matrix), annot=True, cmap=\"PuBu\" ,fmt='g')\n",
        "ax.xaxis.set_label_position(\"top\")\n",
        "plt.tight_layout()\n",
        "plt.title('Confusion matrix', y=1.1)\n",
        "plt.ylabel('Actual label')\n",
        "plt.xlabel('Predicted label')\n",
        "ax.xaxis.set_ticklabels(['Not Obese', 'Obese'])\n",
        "ax.yaxis.set_ticklabels(['Not Obese', 'Obese']);"
      ],
      "id": "xHii3wUn3GQy",
      "execution_count": 884,
      "outputs": [
        {
          "output_type": "display_data",
          "data": {
            "image/png": "[encoded data removed]",
            "text/plain": [
              "<Figure size 432x288 with 2 Axes>"
            ]
          },
          "metadata": {
            "needs_background": "light"
          }
        }
      ]
    },
    {
      "cell_type": "code",
      "metadata": {
        "colab": {
          "base_uri": "https://localhost:8080/"
        },
        "id": "YDSg1aqI3GQy",
        "outputId": "4ada9c7c-e352-493f-aa30-5af7c62113aa"
      },
      "source": [
        "print(\"Accuracy:\", accuracy_score(y_test, y_pred))\n",
        "print(\"Precision:\", precision_score(y_test, y_pred, average='weighted'))\n",
        "print(\"Recall:\", recall_score(y_test, y_pred, average= 'weighted'))"
      ],
      "id": "YDSg1aqI3GQy",
      "execution_count": 885,
      "outputs": [
        {
          "output_type": "stream",
          "name": "stdout",
          "text": [
            "Accuracy: 0.9659090909090909\n",
            "Precision: 0.9660496510838824\n",
            "Recall: 0.9659090909090909\n"
          ]
        }
      ]
    },
    {
      "cell_type": "markdown",
      "metadata": {
        "id": "5faQ3wrdVCkU"
      },
      "source": [
        "Precision increased to 96.6% and recall to 96.59%."
      ],
      "id": "5faQ3wrdVCkU"
    },
    {
      "cell_type": "markdown",
      "metadata": {
        "id": "-WDY_5qpBThB"
      },
      "source": [
        "#Conclusion\n",
        "\n",
        "In Part I of model buidling with this data set I learned adding weight improves the accurancy of predicting the seven classes from about 57% to 66% using multinomial classification.  Using the same multinomial method you can further increase the accuracy, but possibly add bias to the model, if you decrease the classes from seven to two (obese vs not obese)."
      ],
      "id": "-WDY_5qpBThB"
    },
    {
      "cell_type": "markdown",
      "metadata": {
        "id": "URBzurjch3VH"
      },
      "source": [
        "##References\n",
        "https://etr359.medium.com/multi-class-classification-in-python-691821655636\n",
        "\n",
        "https://archive-beta.ics.uci.edu/ml/datasets/estimation+of+obesity+levels+based+on+eating+habits+and+physical+condition\n",
        "\n",
        "https://www.kaggle.com/pmrich/obesitydataset-eda-data-prep-ml-hypertuning\n",
        "\n",
        "https://www.datacamp.com/community/tutorials/understanding-logistic-regression-python\n",
        "\n",
        "https://newbedev.com/sklearn-plot-confusion-matrix-with-labels\n",
        "\n",
        "https://scikit-learn.org/stable/modules/generated/sklearn.linear_model.LogisticRegression.html\n",
        "\n",
        "https://scikit-learn.org/stable/modules/generated/sklearn.multiclass.OneVsRestClassifier.html\n",
        "\n",
        "https://etr359.medium.com/multi-class-classification-in-python-691821655636\n",
        "\n"
      ],
      "id": "URBzurjch3VH"
    }
  ]
}